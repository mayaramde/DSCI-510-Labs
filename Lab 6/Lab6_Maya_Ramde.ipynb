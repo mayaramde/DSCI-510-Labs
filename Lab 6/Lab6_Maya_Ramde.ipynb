{
 "cells": [
  {
   "cell_type": "markdown",
   "metadata": {
    "id": "ikcj12GMqny3"
   },
   "source": [
    "Lab 6 (Week-6)\n",
    "-----------------------------------------\n",
    "Hey Everyone, \n",
    "\n",
    "Guidelines for the Lab:\n",
    "- Download the lab materials from D2L. You're supposed to complete it by the deadline, Friday 11:59pm PDT.  \n",
    "\n",
    "- You have to complete the assignments individually. If you are having trouble completing the assignment do let the TA's/CP's or Graders know.\n",
    "\n",
    "- Please don't copy code (either partially/fully) from your classmates. Plagiarism of any form will result in a 0 and you will be reported to SJACS (https://sjacs.usc.edu/students/academic-integrity/).\n",
    "\n",
    "- You have to fill the code in this notebook and upload it for submission. While doing this, make sure all supporting files that you download from D2L are in the same directory as this notebook.  \n",
    "\n",
    "- Please don't submit code in text files and .py files. Also no mailing code to the TA's or Graders. There were exemptions provided to students in earlier labs due to D2L issues, environment setup and course registrations but these exemptions will not be carried over to future labs.\n",
    "\n",
    "- File Naming Convention : Lab6_FIRSTNAME_LASTNAME.ipynb (Failure to comply to this policy may incur penalties )\n",
    "\n",
    "- Don't change existing methods (if any, unless otherwise mentioned in the instructions)\n",
    "\n",
    "- You are encouraged to look up resources online like python docs and stackoverflow. But, you are encouraged to look up the topics and not the questions themselves.  \n",
    "\n",
    "- Your last submission before the deadline will be counted towards your grade. You can submit any number of times before the deadline.\n",
    "\n",
    "- Scores are capped at 10 points including the Bonus problem. For Example : Even if you get a score of 12/10, your score is capped at 10.\n",
    "\n",
    "- Your output should be as mentioned in the question (Don't output/print extra items which are not asked in the question as it makes it difficult for the graders to grade). (Failure to comply to this policy may incur penalties)\n",
    "\n",
    "- You need to take input from file/console only if it is mentioned in the question. If not we need just the logic/implementation of your function.\n",
    "\n",
    "- Please Don't ask for changes to the Grading Rubrics. Some questions have all/nothing rubric and missing one test case/ edge case may result in a 0 score. So you are encouraged to write your own test cases and evaluate your code as and where necessary. The TA's or Graders will not be providing you with the test cases.\n",
    "\n",
    "----------------------------------------------\n",
    "- For this lab on a non-precedential basis, the bonus question can be attempted independent of attempting the other questions. A few students who have no prior programming background feel that the Labs in general are a bit on the harder side, so this lab has reduced difficulty level. Additionally, to make it further easier to score, we have MCQ's as the bonus questions. Hopefully, you have a great time working with this assignment and getting started with Object oriented programming.\n",
    "\n",
    "- To make coding easier, a lot of the boilerplate code has been given as a template to show you first hand how OOPs constructs are designed. Please use them as references.\n",
    "\n",
    "- Don't change the existing boilerplate code. The reason the boilerplate code has been given, is to make it easy for you to see the bigger picture and get you up to speed faster. There have been multiple comments added, to make it easier for students to logically comprehend the sequence of steps."
   ]
  },
  {
   "cell_type": "markdown",
   "metadata": {},
   "source": [
    "Q1.[2 points]\n",
    "---\n",
    "---\n",
    "Given a List of Integers and a value 'x', you need to find out if the List has any 2 numbers 'a' and 'b' such that \n",
    "a+b = x\n",
    "<br>\n",
    "You can be certain that each test case will have exactly one solution, if a solution exists.\n",
    "Also you cannot use the same element twice for calculating the sum.\n",
    "The input list will have only distinct elements (No element in the list would be repeated)\n",
    "No negative numbers will be a part of the input list.\n",
    "\n",
    "<br>\n",
    "Inputs: List of Integers and a value 'x'\n",
    "<br>\n",
    "Output: boolean (True/False)\n",
    "\n",
    "<br>\n",
    "Example 1:\n",
    "<br>\n",
    "Input: nums = [2,5,10,15], x = 7\n",
    "<br>\n",
    "Output: True\n",
    "<br>\n",
    "Explanation: Because nums[0] + nums[1] == 7, we return True.\n",
    "<br>\n",
    "\n",
    "---\n",
    "Rubric : Partial\n",
    "<br>\n",
    "Grading Rubric: 2 points if output is correct for all test cases. (-0.5, for every failed testcase)"
   ]
  },
  {
   "cell_type": "code",
   "execution_count": 1,
   "metadata": {},
   "outputs": [],
   "source": [
    "def findSum(nums, x):\n",
    "    for a in range(0, len(nums)):\n",
    "        for b in range(a, len(nums)):\n",
    "            if nums[a] + nums[b] == x:\n",
    "                return True\n",
    "    return False\n",
    "    pass"
   ]
  },
  {
   "cell_type": "markdown",
   "metadata": {},
   "source": [
    "The next part of the Lab is based on Object Oriented Principles in Python"
   ]
  },
  {
   "cell_type": "markdown",
   "metadata": {},
   "source": [
    "Q2.[2 points]\n",
    "---\n",
    "You are given a Class Circle where in a circle is constructed by a radius and you are required to implement two methods which calculate the area and the perimeter of a circle.\n",
    "\n",
    "The code framework is already outlined. You need to just fill in the 2 methods to calculate area and perimeter. This question is to get you started with Object oriented design structure in general. The diameter function is already completed to provide you with a template.\n",
    "\n",
    "Note : Replace the pass with your solution. Don't change any other part of the code. \n",
    "You don't need to round up/down the answers. \n",
    "\n",
    "Use Pi = 3.14 for the purposes of this question.\n",
    "\n",
    "\n",
    "---\n",
    "Rubric : All/Nothing\n",
    "<br>\n",
    "Grading Rubric: 2 points if output is correct. (0, otherwise)"
   ]
  },
  {
   "cell_type": "code",
   "execution_count": 5,
   "metadata": {},
   "outputs": [],
   "source": [
    "class Circle():\n",
    "    def __init__(self, r):\n",
    "         self.radius = r\n",
    "    def diameter(self):\n",
    "         return self.radius*2\n",
    "    def area(self):\n",
    "         return self.radius**2*3.14\n",
    "    def perimeter(self):\n",
    "         return 2*3.14*self.radius"
   ]
  },
  {
   "cell_type": "code",
   "execution_count": 6,
   "metadata": {},
   "outputs": [
    {
     "name": "stdout",
     "output_type": "stream",
     "text": [
      "20\n",
      "62.800000000000004\n",
      "314.0\n"
     ]
    }
   ],
   "source": [
    "#Don't change this cell\n",
    "newCircleObject = Circle(10)\n",
    "print(newCircleObject.diameter())\n",
    "print(newCircleObject.perimeter())\n",
    "print(newCircleObject.area())"
   ]
  },
  {
   "cell_type": "markdown",
   "metadata": {
    "id": "7zq1KjYWqnzH"
   },
   "source": [
    "FAQs  (For the next 3 questions in this Lab)\n",
    "---\n",
    "Q. How to open and read a csv file?  \n",
    "A. Code for the same is as below:  \n",
    "```\n",
    "import csv\n",
    "\n",
    "# Open file as below in the variable named file (considering encoding to be 'utf8' and file to be at 'filename.csv')\n",
    "file = open('filename.csv', encoding='utf8')\n",
    "\n",
    "# create a reader for the file(considering delimiter to be ';')\n",
    "reader = csv.reader(file, delimiter=';')\n",
    "\n",
    "# parse on the reader\n",
    "for line in reader:\n",
    "    # Each line in the file\n",
    "    print(line)\n",
    "```\n",
    "Q. How to call super/parent class's constructor?  \n",
    "A. Syntax: ```super().__init__()```  \n"
   ]
  },
  {
   "cell_type": "markdown",
   "metadata": {
    "id": "oy72q830qny_"
   },
   "source": [
    "Q3 [2 points]\n",
    "---\n",
    "In the rest of the lab, you have to complete the implementation 3 classes.  \n",
    "\n",
    "For this question , you will implement a **MyDataset** class. Detailed information of the class is given below:   \n",
    "Class name - **MyDataset**  \n",
    "Parent Class - None  \n",
    "Methods Details:  \n",
    "```\n",
    "__init__(): In the constructor, simply initialize a list  (Already implemented below for your reference)\n",
    "\n",
    "__getitem__(): In this method, return the value of list at the index given in the argument. If the value is not present, return None  (Already implemented below for your reference, to help with the template and structure)\n",
    "\n",
    "__len__(): In this method, return the length of the list  \n",
    "\n",
    "append_data(): In this method, append the value given in the argument to the list defined in the constructor. No return value.   \n",
    "\n",
    "```\n",
    "\n",
    "---\n",
    "Rubric : All/Nothing\n",
    "<br>\n",
    "Grading Rubric: 2 points if output is correct for all test cases. (0, otherwise)"
   ]
  },
  {
   "cell_type": "code",
   "execution_count": 10,
   "metadata": {
    "id": "B4btPiQ3qnzA"
   },
   "outputs": [],
   "source": [
    "#Implement MyDataset class in this cell\n",
    "#Don't change existing cells\n",
    "class MyDataset:\n",
    "    def __init__(self):\n",
    "        self.dataList = []\n",
    "    \n",
    "    def __getitem__(self, index):\n",
    "        if index >= len(self.dataList):\n",
    "            return None\n",
    "        return self.dataList[index]\n",
    "    \n",
    "    def __len__(self):\n",
    "        return len(self.dataList)\n",
    "    \n",
    "    def append_data(self, dataItem):\n",
    "        return self.dataList.append(dataItem)"
   ]
  },
  {
   "cell_type": "code",
   "execution_count": 11,
   "metadata": {
    "id": "UrF_6uTjqnzC"
   },
   "outputs": [
    {
     "name": "stdout",
     "output_type": "stream",
     "text": [
      "0\n",
      "None\n",
      "4\n",
      "True\n"
     ]
    }
   ],
   "source": [
    "# Do not change this cell \n",
    "# code to test the class above\n",
    "data = MyDataset()\n",
    "print(len(data)) # should give 0 (equivalent to calling data.__len__())\n",
    "print(data[1541111]) # This should obviously give None (equivalent to calling data.__getitem__(1541111))\n",
    "data.append_data(1)\n",
    "data.append_data((1, 2))\n",
    "data.append_data([1, 2])\n",
    "data1 = MyDataset()\n",
    "data.append_data(data1)\n",
    "print(len(data)) # Should give 4\n",
    "data2 = data[3]\n",
    "print(data1==data2) # Should be true"
   ]
  },
  {
   "cell_type": "markdown",
   "metadata": {
    "id": "hvJwPmMaqnzC"
   },
   "source": [
    "Q4 [2 points]\n",
    "---\n",
    "\n",
    "For this question, you will implement a **TXT_Dataset** class by extending the parent class MyDataset. Detailed information of the class is given below:\n",
    "Class - **TXT_Dataset**  \n",
    "Parent Class - **MyDataset**  \n",
    "Method Details:  \n",
    "\n",
    "```\n",
    "__init__(): In the constructor, take arguments filename(to access the txt file), splitter/delimiter(used to split each line of the dataset) and encoding(used to convert text to a sequence of bytes) and implement :\n",
    "\n",
    "1. Call the constructor of the MyDataset class\n",
    "\n",
    "2. Using the parent class MyDataset, add the values in the txt file to the list in MyDataset. Value would be the tuple of all values found by splitting the line of the file.\n",
    "\n",
    "append_file(): take arguments filename, splitter and encoding and add this file's data to the dataList (in parent's class) (using append_data method).\n",
    "\n",
    "```\n",
    "\n",
    "---\n",
    "Rubric : All/Nothing\n",
    "<br>\n",
    "Grading Rubric: 2 points if output is correct for all test cases. (0, otherwise)"
   ]
  },
  {
   "cell_type": "code",
   "execution_count": 12,
   "metadata": {
    "id": "4a56mHnAqnzD"
   },
   "outputs": [],
   "source": [
    "# Implement TXT_Dataset class in this cell\n",
    "class TXT_Dataset(MyDataset):\n",
    "    def __init__(self, filename, splitter, encoding):\n",
    "        super().__init__()\n",
    "        \n",
    "        self.append_file(filename,splitter,encoding)\n",
    "    \n",
    "    def append_file(self, filename, splitter, encoding):\n",
    "        handler = open(filename, encoding = encoding)\n",
    "        for i in handler:\n",
    "            data = i.split(splitter)\n",
    "            self.append_data(tuple(data))"
   ]
  },
  {
   "cell_type": "code",
   "execution_count": 13,
   "metadata": {
    "id": "H_FKpC6PqnzE"
   },
   "outputs": [
    {
     "name": "stdout",
     "output_type": "stream",
     "text": [
      "('14.6', '29.7', '55', '0.2\\n')\n",
      "4999\n"
     ]
    }
   ],
   "source": [
    "# Do not change this cell \n",
    "# code to test the class above\n",
    "txt_data = TXT_Dataset('Data.txt', '\\t', 'utf8')\n",
    "print(txt_data[5]) # it should be ('14.6', '29.7', '55', '0.2\\n')\n",
    "print(len(txt_data)) "
   ]
  },
  {
   "cell_type": "markdown",
   "metadata": {
    "id": "IS8JOoXZqnzF"
   },
   "source": [
    "Q5 [2 points]\n",
    "---\n",
    "\n",
    "For this question , you will implement a **CSV_Dataset** class by extending the parent class MyDataset. Detailed information of the class is given below:\n",
    "Class - **CSV_Dataset**  \n",
    "Parent Class - **MyDataset**  \n",
    "Method Details:  \n",
    "```\n",
    "__init__(): In the constructor, take arguments filename(to access the csv file), splitter/delimiter(used to split each line of the dataset) and encoding(used to convert text to a sequence of bytes) and implement :\n",
    "1. Call the constructor of the MyDataset class\n",
    "2. Using the parent class MyDataset, add the values in the csv file to the list in the MyDataset. Value would be the tuple of all values found by splitting the line of the file.\n",
    "append_file(): take arguments filename, splitter and encoding and add this file's data to to the dataList (in parent's class) (using append_data method).\n",
    "```\n",
    "Note: You can import csv module for implementing this.\n",
    "\n",
    "---\n",
    "Rubric : All/Nothing\n",
    "<br>\n",
    "Grading Rubric: 2 points if output is correct for all test cases. (0, otherwise)"
   ]
  },
  {
   "cell_type": "code",
   "execution_count": 14,
   "metadata": {
    "id": "OSXyRoFFqnzG"
   },
   "outputs": [],
   "source": [
    "# Implement CSV_Dataset in this cell\n",
    "import csv\n",
    "class CSV_Dataset(MyDataset):\n",
    "    def __init__(self, filename, splitter, encoding):\n",
    "        super().__init__()\n",
    "        self.append_file(filename, splitter, encoding)\n",
    "    \n",
    "    def append_file(self, filename, splitter, encoding):\n",
    "        file = open(filename, encoding= encoding)\n",
    "        reader = csv.reader(file, delimiter=splitter)\n",
    "        for line in reader:\n",
    "            self.append_data(tuple(line))\n",
    "        pass \n",
    "    \n",
    "    def append_dataset(self, data):\n",
    "        self.dataList = self.dataList + data.dataList\n",
    "        \n",
    "    pass"
   ]
  },
  {
   "cell_type": "code",
   "execution_count": 15,
   "metadata": {
    "id": "8htUgSL4qnzG"
   },
   "outputs": [
    {
     "name": "stdout",
     "output_type": "stream",
     "text": [
      "408\n",
      "409\n",
      "817\n"
     ]
    }
   ],
   "source": [
    "# Do not change this cell\n",
    "# code to test the class above\n",
    "csv_data = CSV_Dataset('cars.csv', ';', 'utf8')\n",
    "print(len(csv_data)) \n",
    "csv_data.append_data((1,2,3,4,5))\n",
    "print(len(csv_data)) \n",
    "csv_data.append_file('cars.csv', ';', 'utf8')\n",
    "print(len(csv_data)) "
   ]
  },
  {
   "cell_type": "markdown",
   "metadata": {
    "id": "VxejhXDbqnzH"
   },
   "source": [
    "Bonus Questions [2 points]\n",
    "---\n",
    "For the 2 MCQ questions below write the option number in the cell below adjacent to the question number. You don't need to provide any reasoning, just the option number.\n",
    "\n",
    "---\n",
    "Rubric : +1 for each question\n",
    "<br>\n",
    "Grading Rubric: Since there is only 1 correct answer for the MCQ's, there are no partial marks"
   ]
  },
  {
   "cell_type": "markdown",
   "metadata": {},
   "source": [
    "BonusQ1 [1 point]\n",
    "---\n",
    "Identify the cause of concern with the below piece of code.\n",
    "\n",
    "```\n",
    "class Person(object):\n",
    "    name = None\n",
    "    def __init__(self, name):\n",
    "        Person.name = name\n",
    "    def funct(self):\n",
    "        return \"Your name is \" + self.name\n",
    "\n",
    "(1) Each Person’s name will be equal to the most recently created Person’s name.\n",
    "(2) Instantiating the object of class Person will lead to an error.\n",
    "(3) The name of every Person will be None.\n",
    "(4) Invoking funct on a person instance causes an error.\n",
    "\n",
    "```"
   ]
  },
  {
   "cell_type": "markdown",
   "metadata": {},
   "source": [
    "BonusQ2 [1 point]\n",
    "---\n",
    "Fill in the Blank with the appropriate option below\n",
    "\n",
    "\n",
    "```\n",
    " _________ is not a keyword, but used to refer to the current instance (object) of a class.\n",
    "\n",
    "(1) class\n",
    "(2) def\n",
    "(3) self\n",
    "(4) init\n",
    "\n",
    "\n",
    "```"
   ]
  },
  {
   "cell_type": "markdown",
   "metadata": {
    "id": "N06XruXJqnzI"
   },
   "source": [
    "#Write your option number beside the question number here for evaluation.\n",
    "<br>\n",
    "BonusQ1:\n",
    "<br>\n",
    "BonusQ2:"
   ]
  },
  {
   "cell_type": "markdown",
   "metadata": {},
   "source": [
    "BonusQ1: (2)\n",
    "BonusQ2: (3) self"
   ]
  },
  {
   "cell_type": "code",
   "execution_count": null,
   "metadata": {},
   "outputs": [],
   "source": []
  }
 ],
 "metadata": {
  "colab": {
   "name": "Lab6_firstname_lastname.ipynb",
   "provenance": []
  },
  "kernelspec": {
   "display_name": "Python 3 (ipykernel)",
   "language": "python",
   "name": "python3"
  },
  "language_info": {
   "codemirror_mode": {
    "name": "ipython",
    "version": 3
   },
   "file_extension": ".py",
   "mimetype": "text/x-python",
   "name": "python",
   "nbconvert_exporter": "python",
   "pygments_lexer": "ipython3",
   "version": "3.8.8"
  }
 },
 "nbformat": 4,
 "nbformat_minor": 1
}
