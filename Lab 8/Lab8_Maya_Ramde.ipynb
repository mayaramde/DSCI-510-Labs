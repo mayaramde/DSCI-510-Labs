{
 "cells": [
  {
   "cell_type": "markdown",
   "metadata": {},
   "source": [
    "Lab 8 (Week-8)\n",
    "-----------------------------------------\n",
    "Hey Everyone, \n",
    "\n",
    "Guidelines for the Lab:\n",
    "- Download the lab materials from D2L. You're supposed to complete it by the deadline, Friday 11:59pm PDT.  \n",
    "\n",
    "- You have to complete the assignments individually. If you are having trouble completing the assignment do let the TA's/CP's or Graders know.\n",
    "\n",
    "- Please don't copy code (either partially/fully) from your classmates. Plagiarism of any form will result in a 0 and you will be reported to SJACS (https://sjacs.usc.edu/students/academic-integrity/).\n",
    "\n",
    "- You have to fill the code in this notebook and upload it for submission. While doing this, make sure all supporting files that you download from D2L are in the same directory as this notebook.  \n",
    "\n",
    "- Please don't submit code in text files and .py files. Also no mailing code to the TA's or Graders. There were exemptions provided to students in earlier labs due to D2L issues, environment setup and course registrations but these exemptions will not be carried over to future labs.\n",
    "\n",
    "- File Naming Convention : Lab8_FIRSTNAME_LASTNAME.ipynb (Failure to comply to this policy may incur penalties )\n",
    "\n",
    "- Don't change existing methods (if any, unless otherwise mentioned in the instructions)\n",
    "\n",
    "- You are encouraged to look up resources online like python docs and stackoverflow. But, you are encouraged to look up the topics and not the questions themselves.  \n",
    "\n",
    "- Your last submission before the deadline will be counted towards your grade. You can submit any number of times before the deadline.\n",
    "\n",
    "- Scores are capped at 10 points including the Bonus problem. For Example : Even if you get a score of 12/10, your score is capped at 10.\n",
    "\n",
    "- Your output should be as mentioned in the question (Don't output/print extra items which are not asked in the question as it makes it difficult for the graders to grade). (Failure to comply to this policy may incur penalties)\n",
    "\n",
    "- You need to take input from file/console only if it is mentioned in the question. If not we need just the logic/implementation of your function.\n",
    "\n",
    "- Please Don't ask for changes to the Grading Rubrics. Some questions have all/nothing rubric and missing one test case/ edge case may result in a 0 score. So you are encouraged to write your own test cases and evaluate your code as and where necessary. The TA's or Graders will not be providing you with the test cases.\n",
    "\n",
    "----------------------------------------------\n",
    "- To make coding easier, a lot of the boilerplate code has been given as a template to show you first hand how OOPs constructs are designed. Please use them as references.\n",
    "\n",
    "- Don't change the existing boilerplate code. The reason the boilerplate code has been given, is to make it easy for you to see the bigger picture and get you up to speed faster. There have been multiple comments added, to make it easier for students to logically comprehend the sequence of steps."
   ]
  },
  {
   "cell_type": "markdown",
   "metadata": {},
   "source": [
    "Q1. (5 points)\n",
    "---\n",
    "\n",
    "We will be formulating a simple calculator using object-oriented programming principles. Our calculator will have 4 simple arithmetic operations : Addition, Subtraction, Multiplication, Division. This is how the calculator will work:\n",
    "\n",
    "The calculator will **take input from the user 2 numbers and an operator.** The operator options are: \n",
    "1. 'add' <br>\n",
    "2. 'subtract' <br>\n",
    "3. 'multiply' <br>\n",
    "4. 'divide' <br>\n",
    "\n",
    "There will be 4 instance methods : add(), subtract(), multiply() and divide(). The skeleton for all these 4 methods is already provided to you. Based on the operator input, the appropriate method should be called and the corresponding operation performed on the 2 numbers input. The result of the operation should be returned to the user.\n",
    "\n",
    "The following methods have to be coded to complete the Calculator class.\n",
    "\n",
    "1. ```__init__``` - This should initialize a *dictionary* where the key will be the operator names in string as shown above. The value for each key will be the method call itself. The key-value pair for 'add' has been given to you for reference. <br>\n",
    "2. ```get_input``` - This method should take the 2 numbers as inputs and store them in instance variables. <br>\n",
    "3. ```execute_operation``` - This method should first take the operator as an argument to the method. Then, this method should access the dictionary using this operator as the key and execute the method. For example, if the operator is add, then the dictionary access will be like :<br> ```self.operation_map ['add'] ()```<br>\n",
    "4. ```add``` - This method will add the 2 numbers that were input by user and return the result. <br>\n",
    "5. ```subtract``` - This method will subtract the 2 numbers that were input by user and return the result. <br>\n",
    "6. ```multiply``` - This method will multiply the 2 numbers that were input by user and return the result. <br>\n",
    "7. ```divide``` - This method will divide the 2 numbers that were input by user and return the result. <br>\n",
    "\n",
    "Some key pointers:\n",
    "\n",
    "1. The input will always have to be converted to integers.\n",
    "2. When dividing, integer division should be performed. For example : if input is 14 & 6, then output is 2.\n",
    "3. Each arithmetic operation method has to **return** the output.\n",
    "\n",
    "---\n",
    "\n",
    "Grading Rubric: One point for each arithmetic operation method (add, subtract, multiply, divide) written correctly. Full points if all methods written perfectly."
   ]
  },
  {
   "cell_type": "code",
   "execution_count": 191,
   "metadata": {},
   "outputs": [],
   "source": [
    "class Calculator():\n",
    "    \n",
    "    def __init__(self):\n",
    "        self.operation_map = {}\n",
    "        self.operation_map = {'add' : self.add, \n",
    "                              'subtract' : self.subtract, \n",
    "                              'multiply' : self.multiplication,\n",
    "                              'divide' : self.division}\n",
    "\n",
    "    def get_input(self, input1, input2):\n",
    "        self.num1 = int(input1)\n",
    "        self.num2 = int(input2)\n",
    "\n",
    "    def execute_operation(self, operation):\n",
    "        return self.operation_map[operation]()\n",
    "\n",
    "    def add(self):\n",
    "        return self.num1 + self.num2\n",
    "\n",
    "    def subtract(self):\n",
    "        return self.num1 - self.num2\n",
    "\n",
    "    def multiplication(self):\n",
    "        return self.num1 * self.num2\n",
    "\n",
    "    def division(self):\n",
    "        try:\n",
    "            return self.num1 // self.num2\n",
    "        except ZeroDivisionError:\n",
    "            return 0\n"
   ]
  },
  {
   "cell_type": "code",
   "execution_count": 193,
   "metadata": {},
   "outputs": [
    {
     "name": "stdout",
     "output_type": "stream",
     "text": [
      "12\n",
      "-3\n",
      "12\n",
      "2\n",
      "0\n"
     ]
    }
   ],
   "source": [
    "# This cell is only for your reference. Use the code below to test your code.\n",
    "\n",
    "c = Calculator()\n",
    "c.get_input(5, 7)\n",
    "# Add two numbers\n",
    "print(c.execute_operation('add'))\n",
    "# Subtract two numbers - Should give positive int output if first number greater than second number, else give negative output.\n",
    "c.get_input(1,4)\n",
    "print(c.execute_operation('subtract'))\n",
    "# Multiply two numbers\n",
    "c.get_input(3,4)\n",
    "print(c.execute_operation('multiply'))\n",
    "# Divide two numbers - should handle 0 division.\n",
    "c.get_input(14,6)\n",
    "print(c.execute_operation('divide'))\n",
    "c.get_input(9,0)\n",
    "print(c.execute_operation('divide'))"
   ]
  },
  {
   "cell_type": "markdown",
   "metadata": {},
   "source": [
    "## The next 2 questions will be on Regular Expressions!"
   ]
  },
  {
   "cell_type": "markdown",
   "metadata": {},
   "source": [
    "Q2. (1 mark)\n",
    "---\n",
    "\n",
    "Let's start with a RegEx appetizer. \n",
    "\n",
    "Fill the function below that checks whether the given string s is valid phone number or not. \n",
    "\n",
    "The format of number is 123-234-8789.\n",
    "\n",
    "valid phone number criteria:\n",
    "\n",
    "A) 3digits-3digits-4digits.\n",
    "\n",
    "B) First digit should not be 0.\n",
    "    \n",
    "Input:  String  \n",
    "Output: Boolean (True/False)\n",
    "\n",
    "---\n",
    "Grading Rubric: 1 mark if given test case correct.\n",
    "\n",
    "--- "
   ]
  },
  {
   "cell_type": "code",
   "execution_count": 42,
   "metadata": {},
   "outputs": [],
   "source": [
    "import re\n",
    "\n",
    "def is_valid_number(number):\n",
    "    if re.search(r'^[1-9]\\d{2}-\\d{3}-\\d{4}', number):\n",
    "        return True\n",
    "    return False"
   ]
  },
  {
   "cell_type": "code",
   "execution_count": 46,
   "metadata": {},
   "outputs": [
    {
     "data": {
      "text/plain": [
       "True"
      ]
     },
     "execution_count": 46,
     "metadata": {},
     "output_type": "execute_result"
    }
   ],
   "source": [
    "is_valid_number('123-456-7890')"
   ]
  },
  {
   "cell_type": "markdown",
   "metadata": {},
   "source": [
    "Q4 (3 marks).\n",
    "---\n",
    "\n",
    "Let's combine what we've learnt about Object-Oriented Programming and Regular Expressions and create a movie ticket booking system with exclusive discounts for USC students! Here is how it will work:\n",
    "\n",
    "- The system will use the email IDs (can be a student email id, gmail id, work id etc.) as booking references. So for each booking, we will store the email ID of the person who booked a ticket.\n",
    "- The system will keep collecting the email IDs of all the people who've booked tickets for the movie and then later use it to find out how many of these bookings were done from a USC account to provide the discount!\n",
    "- Assumptions for this system:\n",
    "    1. Each booking is an individual booking. Only 1 ticket booked at a time.\n",
    "    2. The email IDs for this task will be restricted to the format : abcd@usc.edu, xyz@work.com etc. There will be no email IDs of the form: a.b.c@gmail.com etc. To formalize this, the email ID will be of the form : (Uppercase/Lowercase letters).(subdomain).(domain)\n",
    "\n",
    "\n",
    "Let's look at how we're going to create this system:\n",
    "\n",
    "We are going to create a class BookTicket in which we are going to have the following methods:\n",
    "\n",
    "1. ```__init__``` - Initialize a list that will store the email IDs of all the people who've booked a ticket for the movie``` .\n",
    "2. ```book``` - The book method will take in the email ID of the person as an argument and add the email ID of the person to the aforementioned list.\n",
    "3. ```provide_discount``` - This method will then iterate through the list of email IDs, try to find email IDs that have <u> usc.edu </u> in them (strictly using regex!), and for those email IDs, **print** the following string :<br> \n",
    "'Hi vkmehta@usc.edu, As a USC student, you are now offered a special discount and will receive cash back shortly for your booking!' <br>\n",
    "where vkmehta@usc.edu is the email ID of the person who booked the ticket (in this case, me!)\n",
    "\n",
    "\n",
    "---\n",
    "Rubric : 3 points if all 3 methods written perfectly and discount statement printed only for USC students. -1 if discount statement printed for non-USC student / not printed for a USC student."
   ]
  },
  {
   "cell_type": "code",
   "execution_count": 166,
   "metadata": {},
   "outputs": [],
   "source": [
    "class BookTicket():\n",
    "\n",
    "    def __init__(self):\n",
    "        self.ids = []\n",
    "\n",
    "    def book(self, email_id):\n",
    "        self.ids.append(email_id)\n",
    "\n",
    "    def provide_discount(self):\n",
    "        for email in self.ids:\n",
    "            if re.search(r'[A-Za-z]@(usc.edu)$', email):\n",
    "                print('Hi', email, ', As a USC student, you are now offered a special discount and will receive cash back shortly for your booking!')\n",
    "        return None"
   ]
  },
  {
   "cell_type": "code",
   "execution_count": 167,
   "metadata": {},
   "outputs": [
    {
     "name": "stdout",
     "output_type": "stream",
     "text": [
      "Hi abc@usc.edu , As a USC student, you are now offered a special discount and will receive cash back shortly for your booking!\n",
      "Hi pqr@usc.edu , As a USC student, you are now offered a special discount and will receive cash back shortly for your booking!\n"
     ]
    }
   ],
   "source": [
    "# This cell is only for your reference. Use the code below to test your code.\n",
    "b = BookTicket()\n",
    "b.book('abc@usc.edu')\n",
    "b.book('xyz@ucla.edu')\n",
    "b.book('pqr@usc.edu')\n",
    "b.book('ert@upenn.edu')\n",
    "b.book('zxc@jpmchase.com')\n",
    "b.provide_discount()"
   ]
  },
  {
   "cell_type": "markdown",
   "metadata": {},
   "source": [
    "Q4 - Bonus MCQ questions (2 marks).\n",
    "---\n",
    "\n",
    "Each question can have one or more correct answers. + 1 if all the options are correct, 0 if any one is incorrect.\n",
    "\n",
    "A) Which of the following options will match digits in a string?\n",
    "\n",
    "1. [0-9]\n",
    "2. /D\n",
    "3. /d\n",
    "4. /number\n",
    "\n",
    "B) What will be the output of the following function? <br>\n",
    "```re.findall(\"hello world\", \"hello\", 1)```\n",
    "\n",
    "1. hello\n",
    "2. hello world\n",
    "3. ['hello']\n",
    "4. []\n",
    "\n",
    "---"
   ]
  },
  {
   "cell_type": "markdown",
   "metadata": {},
   "source": [
    "Enter your answers here - please only type in the option numbers. For ex : If otpion 1 is the right answer for Question C), type 1 besides C).\n",
    "\n",
    "A) 1\n",
    "\n",
    "B) 4"
   ]
  }
 ],
 "metadata": {
  "kernelspec": {
   "display_name": "Python 3 (ipykernel)",
   "language": "python",
   "name": "python3"
  },
  "language_info": {
   "codemirror_mode": {
    "name": "ipython",
    "version": 3
   },
   "file_extension": ".py",
   "mimetype": "text/x-python",
   "name": "python",
   "nbconvert_exporter": "python",
   "pygments_lexer": "ipython3",
   "version": "3.8.8"
  }
 },
 "nbformat": 4,
 "nbformat_minor": 4
}
