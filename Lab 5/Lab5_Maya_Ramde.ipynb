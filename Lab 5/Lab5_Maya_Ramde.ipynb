{
 "cells": [
  {
   "cell_type": "markdown",
   "metadata": {},
   "source": [
    "Lab 5 (Week-5)\n",
    "-----------------------------------------\n",
    "Hey Everyone, \n",
    "\n",
    "Guidelines for the Lab:\n",
    "- Download the lab materials from D2L. You're supposed to complete it by the deadline, Friday 11:59pm PDT.  \n",
    "\n",
    "- You have to complete the assignments individually. If you are having trouble completing the assignment do let the TA's/CP's or Graders know.\n",
    "\n",
    "- Please don't copy code (either partially/fully) from your classmates. Plagiarism of any form will result in a 0 and you will be reported to SJACS (https://sjacs.usc.edu/students/academic-integrity/).\n",
    "\n",
    "- You have to fill the code in this notebook and upload it for submission. While doing this, make sure all supporting files that you download from D2L are in the same directory as this notebook.  \n",
    "\n",
    "- Please don't submit code in text files and .py files. Also no mailing code to the TA's or Graders. There were exemptions provided to students in earlier labs due to D2L issues, environment setup and course registrations but these exemptions will not be carried over to future labs.\n",
    "\n",
    "- File Naming Convention : Lab5_FIRSTNAME_LASTNAME.ipynb\n",
    "\n",
    "- A lot of students haven't followed the naming conventions in previous labs and were exempted from penalties.(This may incur penalties in future labs)\n",
    "\n",
    "- Don't change existing methods (if any, unless otherwise mentioned in the instructions)\n",
    "\n",
    "- You are encouraged to look up resources online like python docs and stackoverflow. But, you are encouraged to look up the topics and not the questions themselves.  \n",
    "\n",
    "- Your last submission before the deadline will be counted towards your grade. You can submit any number of times before the deadline.\n",
    "\n",
    "- Scores are capped at 10 points including the Bonus problem. For Example : Even if you get a score of 12/10, your score is capped at 10.\n",
    "\n",
    "- Bonus score is counted only if all the required questions are attempted.\n",
    "\n",
    "- Your output should be as mentioned in the question (Don't output/print extra items which are not asked in the question as it makes it difficult for the graders to grade). This has been excused in the first few Labs, but may attract penalties going forward. \n",
    "\n",
    "- You need to take input from file/console only if it is mentioned in the question. If not we need just the logic/implementation of your function. This has been excused in the first few Labs, but failure to adhere to this will incur penalties.\n",
    "\n",
    "- Please Don't ask for changes to the Grading Rubrics. Some questions have all/nothing rubric and missing one test case/ edge case may result in a 0 score. So you are encouraged to write your own test cases and evaluate your code as and where necessary. The TA's or Graders will not be providing you with the test cases."
   ]
  },
  {
   "cell_type": "markdown",
   "metadata": {},
   "source": [
    "---\n",
    "Q1.[2 Points]\n",
    "---\n",
    "You are given a file named Airports.txt. Data in each line is seperated by a tab(which is represented by '\\t' in python).  \n",
    "\n",
    "Each line of the file is in the format:\n",
    "\n",
    "```(type of airport, Name of the airport, Elevation from sealevel, Long and lat with \"\" seperated by comma). ```\n",
    "\n",
    "Example:\n",
    "```heliport\tTotal Rf Heliport\t11\t\"-74.93360137939453, 40.07080078125\"```\n",
    "\n",
    "Note: To read this file, you will need utf8 encoding hence, run \"file = open('Airports.txt', encoding='utf8')\" command for getting file handle.  \n",
    "\n",
    "For this question, open the file and **return** the length of the dictionary constructed with key as \"Name of the airport\" and value as a tuple of long and lat coordinates in format **(long, lat)**.  \n",
    "\n",
    "Input: none  \n",
    "Output: dictionary\n",
    "\n",
    "---\n",
    "Grading Rubric: 2 if all correct.\n",
    "\n",
    "--- "
   ]
  },
  {
   "cell_type": "code",
   "execution_count": 45,
   "metadata": {},
   "outputs": [],
   "source": [
    "def get_airport_info():\n",
    "    dictionary = {} \n",
    "    airports = open('Airports.txt', encoding='utf8') # read in file\n",
    "\n",
    "    # loop through each line of .txt file\n",
    "    for i in airports:\n",
    "        line = i.rstrip().split(\"\\t\") # split line into list of 4 elements\n",
    "        coords_from_file = line[3]\n",
    "        coords = coords_from_file.replace('\"','').split(\", \")\n",
    "        coordinates = (float(coords[0]),float(coords[1]))\n",
    "        dictionary[line[1]] = coordinates\n",
    "    \n",
    "    return dictionary\n",
    "    pass"
   ]
  },
  {
   "cell_type": "code",
   "execution_count": 47,
   "metadata": {},
   "outputs": [
    {
     "name": "stdout",
     "output_type": "stream",
     "text": [
      "Len of the dict returned : 52852\n",
      "Len should be 52852\n"
     ]
    }
   ],
   "source": [
    "# Do not change this cell \n",
    "print('Len of the dict returned :', len(get_airport_info().items()))\n",
    "print('Len should be', 52852)"
   ]
  },
  {
   "cell_type": "markdown",
   "metadata": {},
   "source": [
    "Q2.[5 points]\n",
    "---\n",
    "\n",
    "The VGSA elections at USC are open and there are multiple candidates contesting the election. The votes cast by the student population at USC Viterbi are all collected in a list where each element of this list will contain the name of the candidate. \n",
    "We want to find out who won the election and display the name of the winner. Hence, your job is to find out which name appears the maximum number of times in the list.\n",
    "\n",
    "```If there is a tie between 2 or more contestants with same votes, order them lexicographically to resolve the tie and return the names of the winners separated by commas.```\n",
    "\n",
    "Input: List of strings\n",
    "\n",
    "Output: String\n",
    "\n",
    "**Example 1 :**\n",
    "\n",
    "election_vote_list = list('Alex', 'Alex', 'Chad', 'Bridget', 'Bridget')\n",
    "\n",
    "Here, Alex has been voted twice, Chad has been voted once and Bridget has been voted twice. Hence, Alex and Bridget are the joint winners of the election. \n",
    "The function should **return** the string *Alex,Bridget* as lexicographically, Alex comes first.\n",
    "\n",
    "**Example 2 :**\n",
    "\n",
    "election_vote_list = list(Alex', 'Alex', 'Chad', 'Bridget', 'Brett', 'Darcy')\n",
    "\n",
    "In this case, Alex has been voted twice and everyone else only has one vote. Hence, Alex is the winner of the election and the function should **return** the string *Alex* as the winner.\n",
    "\n",
    "---\n",
    "Grading Rubric: 2 points if the sample input/output are correct. 5 if all correct. -0.5 for each hidden test case that is wrong"
   ]
  },
  {
   "cell_type": "code",
   "execution_count": 4,
   "metadata": {},
   "outputs": [],
   "source": [
    "def election_winner( election_vote_list ):\n",
    "    votes = {}\n",
    "    \n",
    "    for name in election_vote_list:\n",
    "        votes[name] = votes.get(name,0) + 1\n",
    "    \n",
    "    winnerNames = []\n",
    "    winnerCount = None\n",
    "    for name, vote in votes.items():\n",
    "        if winnerCount is None or vote > winnerCount:\n",
    "            winnerNames.append(name)\n",
    "            winnerCount = vote\n",
    "        elif vote == winnerCount:\n",
    "            winnerNames.append(name)\n",
    "            \n",
    "    return sorted(winnerNames)\n",
    "    pass\n",
    "                "
   ]
  },
  {
   "cell_type": "code",
   "execution_count": 5,
   "metadata": {},
   "outputs": [
    {
     "name": "stdout",
     "output_type": "stream",
     "text": [
      "['Alex', 'Alex', 'Chad', 'Bridget', 'Bridget']\n",
      "The election winners is/are : ['Alex', 'Bridget']\n",
      "The expected answer is/are : Alex,Bridget\n",
      "['Alex', 'Alex', 'Chad', 'Bridget', 'Brett', 'Darcy']\n",
      "The election winners is/are : ['Alex']\n",
      "The expected answer is/are : Alex\n"
     ]
    }
   ],
   "source": [
    "# do not change this cell\n",
    "# Sample test cases to test your logic\n",
    "# test case 1 - Multiple winners.\n",
    "print('The election winners is/are : {}'.format(election_winner(['Alex', 'Alex', 'Chad', 'Bridget', 'Bridget'])))\n",
    "print('The expected answer is/are : Alex,Bridget')\n",
    "# test case 2 - Single winner.\n",
    "print('The election winners is/are : {}'.format(election_winner(['Alex', 'Alex', 'Chad', 'Bridget', 'Brett', 'Darcy'])))\n",
    "print('The expected answer is/are : Alex')"
   ]
  },
  {
   "cell_type": "markdown",
   "metadata": {},
   "source": [
    "Q3.[3 points]\n",
    "---\n",
    "\n",
    "We have created a special keyboard where all the keys are wired in a single row.\n",
    "\n",
    "We are given a string of 26 characters indicating the layout of the keyboard and it is indexed from 0 to 25. As the beta user for this unique keyboard, you wish to type a word and the metric being tested is the time required to type the word. \n",
    "Initially, your finger is at index 0. To type a character, you have to move your finger to the index of the desired character. The time taken to move your finger from index i to index j is |i - j|.\n",
    "\n",
    "Write a function to calculate how much time it takes to type it with one finger.\n",
    "\n",
    "Input: 2 strings, first will be a string of the 26 characters in a random order representing the keyboard and the second string will be the word that you want to type.\n",
    "\n",
    "Output: Integer\n",
    "\n",
    "**Example 1:**\n",
    "\n",
    "Input: keyboard = \"abcdefghijklmnopqrstuvwxyz\", word = \"cba\"\n",
    "\n",
    "Output: 4\n",
    "\n",
    "Explanation: We initially start at index 0. The index then moves from 0 to 2 to write 'c' which takes time |0-2| = 2. Next, the index moves from 2 to 1 to write 'b' which takes time |2-1| = 1. Lastly, the inxex moves back to 0 to write 'a' for a time of |1-0| = 1.\n",
    "Therefore, total time taken to write the word = 2 + 1 + 1 = 4. \n",
    "\n",
    "**Example 2:**\n",
    "\n",
    "Input: keyboard = \"pqrstuvwxyzabcdefghijklmno\", word = \"data\"\n",
    "\n",
    "Output: Following the same pattern as above, the total time taken to write the word data is 31\n",
    "\n",
    "\n",
    "---\n",
    "Grading Rubric: 2 points if the sample input/output are correct. 3 if all correct. -0.5 for each hidden test case that is wrong"
   ]
  },
  {
   "cell_type": "code",
   "execution_count": 66,
   "metadata": {},
   "outputs": [],
   "source": [
    "def time_to_type_word(keyboard, word):\n",
    "    # enumerate() --> adds a counter to an iterable and returns it in a form of enumerating object\n",
    "    d = {char: index for index, char in enumerate(keyboard)}\n",
    "    total_time = prior = 0\n",
    "    for char in word:\n",
    "        index = d[char]\n",
    "        total_time += abs(index - prior)\n",
    "        prior = index\n",
    "    return total_time\n",
    "    pass"
   ]
  },
  {
   "cell_type": "code",
   "execution_count": 67,
   "metadata": {},
   "outputs": [
    {
     "name": "stdout",
     "output_type": "stream",
     "text": [
      "The time to type word is : 4\n",
      "The expected answer is   : 4\n",
      "The time to type word is : 31\n",
      "The expected answer is   : 31\n"
     ]
    }
   ],
   "source": [
    "#do not change this cell\n",
    "#Sample test cases to test your logic\n",
    "#test case 1 \n",
    "print('The time to type word is : {}'.format(time_to_type_word(\"abcdefghijklmnopqrstuvwxyz\", \"cba\")))\n",
    "print('The expected answer is   : 4')\n",
    "#test case 2\n",
    "print('The time to type word is : {}'.format(time_to_type_word(\"pqrstuvwxyzabcdefghijklmno\", \"data\")))\n",
    "print('The expected answer is   : 31')"
   ]
  },
  {
   "cell_type": "markdown",
   "metadata": {},
   "source": [
    "Bonus [2 points] \n",
    "---\n",
    "\n",
    "All DNA is composed of a series of nucleotides abbreviated as A, C, G, and T, for example: \"ACGAATTCCG\". When studying DNA, it is sometimes useful to identify repeated sequences within the DNA.  \n",
    "\n",
    "Write a function to find all the **10-letter-long sequences** (substrings) that occur more than once in a DNA molecule.  \n",
    "\n",
    "Input: string  \n",
    "Return Output: list of strings  \n",
    "\n",
    "Hint: If you use dictionaries, what will be the key? and value?   \n",
    "\n",
    "Example:  \n",
    "```\n",
    "Input  \n",
    "AAAAACCCCCAAAAACCCCCCAAAAAGGGTTT  \n",
    "Output  \n",
    "[\"AAAAACCCCC\", \"CCCCCAAAAA\"]  \n",
    "```\n",
    "---\n",
    "Grading Rubric: 2 points if all correct. All or nothing.\n"
   ]
  },
  {
   "cell_type": "code",
   "execution_count": 62,
   "metadata": {},
   "outputs": [],
   "source": [
    "def dna_sequences(sequence):\n",
    "    dictionary = {}\n",
    "    for i in range(len(sequence) - 9):\n",
    "        key = sequence[i:i+10]\n",
    "        if key not in dictionary.keys():\n",
    "            dictionary[key] = 1\n",
    "        else:\n",
    "            dictionary[key] += 1\n",
    "    lst = []\n",
    "    for key, value in dictionary.items():\n",
    "        if value >= 2:\n",
    "            lst.append(key)\n",
    "    return lst"
   ]
  },
  {
   "cell_type": "code",
   "execution_count": 63,
   "metadata": {},
   "outputs": [
    {
     "name": "stdout",
     "output_type": "stream",
     "text": [
      "Your output for sequence=AAAAACCCCCAAAAACCCCCCAAAAAGGGTTT is ['AAAAACCCCC', 'CCCCCAAAAA']\n"
     ]
    }
   ],
   "source": [
    "# Do not change this cell\n",
    "# Sample test case 1\n",
    "print('Your output for sequence=AAAAACCCCCAAAAACCCCCCAAAAAGGGTTT is', dna_sequences('AAAAACCCCCAAAAACCCCCCAAAAAGGGTTT'))"
   ]
  },
  {
   "cell_type": "code",
   "execution_count": null,
   "metadata": {},
   "outputs": [],
   "source": []
  }
 ],
 "metadata": {
  "kernelspec": {
   "display_name": "Python 3 (ipykernel)",
   "language": "python",
   "name": "python3"
  },
  "language_info": {
   "codemirror_mode": {
    "name": "ipython",
    "version": 3
   },
   "file_extension": ".py",
   "mimetype": "text/x-python",
   "name": "python",
   "nbconvert_exporter": "python",
   "pygments_lexer": "ipython3",
   "version": "3.8.8"
  }
 },
 "nbformat": 4,
 "nbformat_minor": 4
}
