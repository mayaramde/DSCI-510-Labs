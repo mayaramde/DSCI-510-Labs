{
 "cells": [
  {
   "cell_type": "markdown",
   "metadata": {},
   "source": [
    "Lab 7 (Week-7)\n",
    "-----------------------------------------\n",
    "Hey Everyone, \n",
    "\n",
    "Guidelines for the Lab:\n",
    "- Download the lab materials from D2L. You're supposed to complete it by the deadline, Friday 11:59pm PDT.  \n",
    "\n",
    "- You have to complete the assignments individually. If you are having trouble completing the assignment do let the TA's/CP's or Graders know.\n",
    "\n",
    "- Please don't copy code (either partially/fully) from your classmates. Plagiarism of any form will result in a 0 and you will be reported to SJACS (https://sjacs.usc.edu/students/academic-integrity/).\n",
    "\n",
    "- You have to fill the code in this notebook and upload it for submission. While doing this, make sure all supporting files that you download from D2L are in the same directory as this notebook.  \n",
    "\n",
    "- Please don't submit code in text files and .py files. Also no mailing code to the TA's or Graders. There were exemptions provided to students in earlier labs due to D2L issues, environment setup and course registrations but these exemptions will not be carried over to future labs.\n",
    "\n",
    "- File Naming Convention : Lab7_FIRSTNAME_LASTNAME.ipynb (Failure to comply to this policy may incur penalties )\n",
    "\n",
    "- Don't change existing methods (if any, unless otherwise mentioned in the instructions)\n",
    "\n",
    "- You are encouraged to look up resources online like python docs and stackoverflow. But, you are encouraged to look up the topics and not the questions themselves.  \n",
    "\n",
    "- Your last submission before the deadline will be counted towards your grade. You can submit any number of times before the deadline.\n",
    "\n",
    "- Scores are capped at 10 points including the Bonus problem. For Example : Even if you get a score of 12/10, your score is capped at 10.\n",
    "\n",
    "- Your output should be as mentioned in the question (Don't output/print extra items which are not asked in the question as it makes it difficult for the graders to grade). (Failure to comply to this policy may incur penalties)\n",
    "\n",
    "- You need to take input from file/console only if it is mentioned in the question. If not we need just the logic/implementation of your function.\n",
    "\n",
    "- Please Don't ask for changes to the Grading Rubrics. Some questions have all/nothing rubric and missing one test case/ edge case may result in a 0 score. So you are encouraged to write your own test cases and evaluate your code as and where necessary. The TA's or Graders will not be providing you with the test cases.\n",
    "\n",
    "----------------------------------------------\n",
    "- To make coding easier, a lot of the boilerplate code has been given as a template to show you first hand how OOPs constructs are designed. Please use them as references.\n",
    "\n",
    "- Don't change the existing boilerplate code. The reason the boilerplate code has been given, is to make it easy for you to see the bigger picture and get you up to speed faster. There have been multiple comments added, to make it easier for students to logically comprehend the sequence of steps."
   ]
  },
  {
   "cell_type": "markdown",
   "metadata": {},
   "source": [
    "**We, the \"510\" team wish you all the best for your coming midterm.**"
   ]
  },
  {
   "cell_type": "markdown",
   "metadata": {},
   "source": [
    "Q1.\n",
    "---\n",
    "Fill the function below that finds the uncommon words between 2 strings s1 and s2 ```where word matching is not case sensitive.```\n",
    "    \n",
    "Example: \n",
    "\n",
    "Input : \n",
    "\n",
    "s1 = 'I love the Red Hot Chili Peppers !'\n",
    "\n",
    "s2 = 'I do not love chili peppers that are red hot'\n",
    "\n",
    "Output : ['the', '!', 'do', 'not', 'that', 'are']"
   ]
  },
  {
   "cell_type": "code",
   "execution_count": 68,
   "metadata": {},
   "outputs": [],
   "source": [
    "def uncommon_words(s1, s2):\n",
    "    # make all words lowercase in both strings\n",
    "    s1 = s1.lower()\n",
    "    s2 = s2.lower()\n",
    "    #print(\"lowercase strings:\",'\\n', s1,'\\n',s2)\n",
    "    \n",
    "    # create lists of the strings, split by spaces\n",
    "    str1 = s1.split()\n",
    "    str2 = s2.split()\n",
    "    #print(\"split lists:\",'\\n', str1,'\\n',str2)\n",
    "\n",
    "    # combine both lists and remove matching elements in for loops\n",
    "    uncommon = str1 + str2\n",
    "    \n",
    "    # Compare each word in str1 to every word in str2\n",
    "    # remove all instances of the word from uncommon if it has a match\n",
    "    for word_1 in str1:\n",
    "        for word_2 in str2:\n",
    "            if word_1 == word_2:\n",
    "                # iterate through uncommon and remove all instances of the common word\n",
    "                for word in uncommon:\n",
    "                    if word == word_1:\n",
    "                        uncommon.remove(word)\n",
    "    \n",
    "    # Compare each word in str2 to every word in str1\n",
    "    # remove all instances of the word from uncommon if it has a match\n",
    "    for word_2 in str2:\n",
    "        for word_1 in str1:\n",
    "            if word_2 == word_1:\n",
    "                for word in uncommon:\n",
    "                    if word == word_2:\n",
    "                        uncommon.remove(word)\n",
    "    return uncommon"
   ]
  },
  {
   "cell_type": "code",
   "execution_count": 72,
   "metadata": {},
   "outputs": [
    {
     "data": {
      "text/plain": [
       "['are', 'coffee', 'running', 'example', 'person', 'student', 'professor']"
      ]
     },
     "execution_count": 72,
     "metadata": {},
     "output_type": "execute_result"
    }
   ],
   "source": [
    "s1 = 'I love the Red Hot Chili Peppers !'\n",
    "\n",
    "s2 = 'I do not love chili peppers that are red hot'\n",
    "\n",
    "uncommon_words(s1, s2)"
   ]
  },
  {
   "cell_type": "markdown",
   "metadata": {},
   "source": [
    "Q2. \n",
    "---\n",
    "Given a text string, return the top k words sorted by frequency. If there are multiple options to include, add the words that are lexicographically smaller.  \n",
    "\n",
    "Note:  \n",
    "    - Strings in different letter case are considered different. For example, 'hey' and 'Hey' are different.   \n",
    "    - No need to remove special characters.  \n",
    "\n",
    "Input: string, integer  \n",
    "Return Output: List of strings\n",
    "\n",
    "Example 1:  \n",
    "Input:  \n",
    "text = 'this string would give you this output', k = 1  \n",
    "Output:  \n",
    "['this']  \n",
    "Example 2:  \n",
    "Input:  \n",
    "text = 'that is fun', k = 2  \n",
    "Output:  \n",
    "['fun', 'is']  \n",
    "\n",
    "--- "
   ]
  },
  {
   "cell_type": "code",
   "execution_count": 86,
   "metadata": {},
   "outputs": [],
   "source": [
    "from collections import defaultdict\n",
    "def top_k(text, k):\n",
    "\n",
    "    # Make a dict with frequencies\n",
    "    dictionary = dict()\n",
    "    text = text.split()\n",
    "    # add frequency of each word to the dictionary\n",
    "    for word in text:\n",
    "        if word in dictionary:\n",
    "            dictionary[word] += 1\n",
    "        else:\n",
    "            dictionary[word] = 1\n",
    "    \n",
    "    # Making another dict with key as frequency and value as list of words having the same freq\n",
    "    freq = defaultdict(list)\n",
    "    # key = count, value = list of words\n",
    "    for word, count in dictionary.items():\n",
    "        freq[count].append(word)\n",
    "\n",
    "    # Sort the words internally lexicographically\n",
    "    for key,value in freq.items():\n",
    "        value.sort()\n",
    "    \n",
    "    # Sort over frequencies\n",
    "    sorted_freq_list = sorted(freq.items(), reverse=True)\n",
    "    # reverse means sort keys in descending order\n",
    "    print(sorted_freq_list)\n",
    "    \n",
    "    # Get the words in order and put them in top_k_list\n",
    "    top_k_list = []\n",
    "    for key,value in sorted_freq_list:\n",
    "        top_k_list += value\n",
    "\n",
    "    return top_k_list[0:k]\n"
   ]
  },
  {
   "cell_type": "code",
   "execution_count": 88,
   "metadata": {},
   "outputs": [
    {
     "name": "stdout",
     "output_type": "stream",
     "text": [
      "[(1, ['fun', 'is', 'that'])]\n"
     ]
    },
    {
     "data": {
      "text/plain": [
       "['fun', 'is']"
      ]
     },
     "execution_count": 88,
     "metadata": {},
     "output_type": "execute_result"
    }
   ],
   "source": [
    "top_k(\"She sells sea shells on the sea shore\", 1)\n",
    "#top_k(\"that is fun\",2)"
   ]
  },
  {
   "cell_type": "markdown",
   "metadata": {},
   "source": [
    "Q3.\n",
    "---\n",
    "Create a Lecture class. Please create an object definition which fits the following the guidelines.  \n",
    "\n",
    "Every lecture object must be instantiated(params to the constructor) with the following String variables:\n",
    "1. Professor Name\n",
    "2. Id\n",
    "\n",
    "Hence, lecture class' object could be created like ```my_lecture = Lecture('Prof.Jose Luis Ambite', '1')```  \n",
    "\n",
    "Every lecture object must have the following functions:\n",
    "1. Add Student to the class \n",
    "    * Definition - add_student(student_name) Types - [string] No Return \n",
    "2. Remove Student from the class  \n",
    "    * Definition - remove_student(student_name) Types - [string] No Return \n",
    "3. Add a rating to the class \n",
    "    * Definition - add_rating(rating) Types - [float] No Return \n",
    "4. What is the average rating of the class  \n",
    "    * Definition - avg_rating() (*if nothing in the list just return 0*) Return rating \n",
    "5. Setter function for the boolean variable is_there_hw, which reverses the current boolean value (Default of is_there_hw is False)\n",
    "    * So if is_there_hw was False, and you call this function it sets it to True and vice versa\n",
    "    * Definition - set_hw() No Return \n",
    "6. Getter function for is_there_hw\n",
    "    * simply returns the state of the is_there_hw variable\n",
    "    * Definition - get_hw() Return boolean  \n",
    "7. Get students list\n",
    "    * simply returns the list of students in the class\n",
    "    * Definition - get_students() Return list  \n",
    "\n",
    "\n",
    "So there are 8 functions you have to create, the 7 above and the one `__init__` function.   \n",
    "\n",
    "---\n"
   ]
  },
  {
   "cell_type": "code",
   "execution_count": 9,
   "metadata": {},
   "outputs": [],
   "source": [
    "class Lecture:\n",
    "    # initial variables\n",
    "    professor_name = \"\"\n",
    "    prof_id = \"\"\n",
    "    students = []\n",
    "    ratings = []\n",
    "    is_there_hw = False\n",
    "    \n",
    "    def __init__(self, professor_name, prof_id):\n",
    "        self.professor_name = professor_name\n",
    "        self.prof_id = prof_id\n",
    "        \n",
    "    def add_student(self, student_name):\n",
    "        self.students.append(student_name)\n",
    "        \n",
    "    def remove_student(self, student_name):\n",
    "        if student_name in self.students:\n",
    "            self.students.remove(student_name)\n",
    "        \n",
    "    def add_rating(self, rating):\n",
    "        self.ratings.append(rating)\n",
    "        \n",
    "    def avg_rating(self):\n",
    "        sum = 0\n",
    "        if len(self.ratings) > 0:\n",
    "            for rating in self.ratings:\n",
    "                sum += float(rating)\n",
    "            return sum/len(self.ratings)\n",
    "        else:\n",
    "            return 0\n",
    "\n",
    "    def set_hw(self):\n",
    "        self.is_there_hw = True\n",
    "\n",
    "    def get_hw(self):\n",
    "        return self.is_there_hw\n",
    "\n",
    "    def get_students(self):\n",
    "        return self.students"
   ]
  },
  {
   "cell_type": "code",
   "execution_count": 10,
   "metadata": {},
   "outputs": [
    {
     "name": "stdout",
     "output_type": "stream",
     "text": [
      "8.333333333333334\n",
      "['Viraj Mehta', 'Vishal Karanam']\n",
      "['Viraj Mehta']\n",
      "7.5\n"
     ]
    }
   ],
   "source": [
    "l = Lecture('Prof. Jose luis Ambite', '1')\n",
    "l.add_student('Viraj Mehta')\n",
    "l.add_student('Vishal Karanam')\n",
    "l.add_rating(10)\n",
    "l.add_rating(8)\n",
    "l.add_rating(7)\n",
    "l.set_hw()\n",
    "l.get_hw()\n",
    "print(l.avg_rating())\n",
    "print(l.get_students())\n",
    "l.remove_student('Vishal Karanam')\n",
    "print(l.get_students())\n",
    "l.add_rating(5)\n",
    "print(l.avg_rating())"
   ]
  },
  {
   "cell_type": "markdown",
   "metadata": {},
   "source": [
    "Bonus Question\n",
    "---\n",
    "You are playing the following Game with your friend:\n",
    "\n",
    "- Initially, there is a heap of stones on the table.  \n",
    "- You and your friend will alternate taking turns, and you go first.  \n",
    "- On each turn, the person whose turn it is will remove 1 to 3 stones from the heap.  \n",
    "- The one who removes the last stone is the winner.  \n",
    "- Given n, the number of stones in the heap, return True if you can win the game assuming both you and your friend play optimally, otherwise return False.  \n",
    "\n",
    "Example:  \n",
    "Input: n = 4  \n",
    "Return Output: False  \n",
    "Explanation: These are the possible outcomes:  \n",
    "1. You remove 1 stone. Your friend removes 3 stones, including the last stone. Your friend wins.  \n",
    "2. You remove 2 stones. Your friend removes 2 stones, including the last stone. Your friend wins.  \n",
    "3. You remove 3 stones. Your friend removes the last stone. Your friend wins.  \n",
    "\n",
    "In all outcomes, your friend wins.  \n",
    "\n",
    "---"
   ]
  },
  {
   "cell_type": "code",
   "execution_count": null,
   "metadata": {},
   "outputs": [],
   "source": [
    "def is_winnable(n):\n",
    "    if n%4 == 0:\n",
    "        return False\n",
    "    else:\n",
    "        return True"
   ]
  },
  {
   "cell_type": "code",
   "execution_count": null,
   "metadata": {},
   "outputs": [],
   "source": []
  }
 ],
 "metadata": {
  "kernelspec": {
   "display_name": "Python 3 (ipykernel)",
   "language": "python",
   "name": "python3"
  },
  "language_info": {
   "codemirror_mode": {
    "name": "ipython",
    "version": 3
   },
   "file_extension": ".py",
   "mimetype": "text/x-python",
   "name": "python",
   "nbconvert_exporter": "python",
   "pygments_lexer": "ipython3",
   "version": "3.8.8"
  }
 },
 "nbformat": 4,
 "nbformat_minor": 4
}
