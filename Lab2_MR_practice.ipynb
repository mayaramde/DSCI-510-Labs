{
 "cells": [
  {
   "cell_type": "markdown",
   "metadata": {},
   "source": [
    "Lab 2 (Week-2)\n",
    "-----------------------------------------\n",
    "Hey Everyone, \n",
    "\n",
    "Guidelines for the Lab:\n",
    "- Download the lab materials from D2L. You're supposed to complete it by the deadline, Friday 11:59pm PDT.  \n",
    "\n",
    "- You have to complete the assignments individually. If you are having trouble completing the assignment do let the TA's/CP's or Graders know.\n",
    "\n",
    "- Please don't copy code (either partially/fully) from your classmates. Plagiarism of any form will result in a 0 and you will be reported to SJACS (https://sjacs.usc.edu/students/academic-integrity/).\n",
    "\n",
    "- You have to fill the code in this notebook and upload it for submission. While doing this, make sure all supporting files that you download from D2L are in the same directory as this notebook.  \n",
    "\n",
    "- Please don't submit code in text files and .py files. Also no mailing code to the TA's or Graders. There were exemptions provided to students in Lab-1 due to D2L issues, environment setup and course registrations but these exemptions will not be carried over to future labs.\n",
    "\n",
    "- File Naming Convention : Lab2_FIRSTNAME_LASTNAME.ipynb\n",
    "\n",
    "- A lot of students haven't followed the naming conventions in Lab-1 but were exempted (This may incur penalties in future labs btw)\n",
    "\n",
    "- Don't change existing methods (if any, unless otherwise mentioned in the instructions)\n",
    "\n",
    "- Please Don't ask for changes to the Grading Rubrics\n",
    "\n",
    "- You are encouraged to look up resources online like python docs and stackoverflow. But, you are encouraged to look up the topics and not the questions themselves  \n",
    "\n",
    "- Your last submission before the deadline will be counted towards your grade. You can submit any number of times before the deadline.\n",
    "\n",
    "- Scores are capped at 10 points including the Bonus problem. For Example : Even if you get a score of 12/10, your score is capped at 10.\n",
    "\n",
    "- Bonus score is counted only if the first 2 questions are attempted. Don't attempt the bonus question if you haven't attempted the first 2"
   ]
  },
  {
   "cell_type": "markdown",
   "metadata": {},
   "source": [
    "Q1.[5 points]\n",
    "---\n",
    "---\n",
    "Determine if triangle can be formed by using the given 3 sides.  \n",
    "\n",
    "```\n",
    "Condition: \n",
    "For a triangle to be valid, each side must be strictly smaller than the summation of the other two sides\n",
    "```\n",
    "\n",
    "Input: float, float, float  \n",
    "Return: boolean\n",
    "\n",
    "---\n",
    "\n",
    "```\n",
    "Example:  \n",
    "Input  \n",
    "s1=4, s2=5, s3=7\n",
    "Output\n",
    "True\n",
    "```\n",
    "\n",
    "```\n",
    "Example:  \n",
    "Input  \n",
    "s1=3, s2=1, s3=7\n",
    "Output\n",
    "False\n",
    "```\n",
    "---\n",
    "Rubric: All or Nothing.\n",
    "<br>\n",
    "Grading Rubric: 5 points if the output to all the grading test cases are correct. 0 otherwise (No Partial Marks). "
   ]
  },
  {
   "cell_type": "code",
   "execution_count": 11,
   "metadata": {},
   "outputs": [
    {
     "data": {
      "text/plain": [
       "True"
      ]
     },
     "execution_count": 11,
     "metadata": {},
     "output_type": "execute_result"
    }
   ],
   "source": [
    "def is_valid_triangle(s1, s2, s3):\n",
    "    # check that the summation of every two sides is strictly greater than third side\n",
    "    if (s1 < (s2 + s3) and s2 < (s1 + s3) and s3 < (s1 + s2)):\n",
    "        return True\n",
    "    else:\n",
    "        return False\n",
    "    pass\n",
    "#is_valid_triangle(1, 2, 3)\n",
    "#is_valid_triangle(3, 1, 7)"
   ]
  },
  {
   "cell_type": "markdown",
   "metadata": {},
   "source": [
    "Q2.[5 points]\n",
    "---\n",
    "Vishal is new in town and needs your help in withdrawing money from the bank. The Bank will accept a withdrawl and mark it as valid if the amount to be withdrawn is a multiple of 3 or a multiple of 5. The Bank also levies a \\\\$1.50 fee for every withdrawl amount below \\\\$100 and a \\\\$2.50 fee for withdrawl amount equal to or above \\\\$100. Help Vishal find his account balance after a transaction (up to 2 decimal places).  \n",
    "\n",
    "Input\n",
    "\n",
    "0<= Balance <= 10000 with two digits of precision - Vishal's Checking Balance.\n",
    "\n",
    "Positive integer 0 < X <= 10000 - Amount Vishal wants to Withdraw.\n",
    "\n",
    "Output\n",
    "\n",
    "Output Vishal's account balance after a given transaction (two digits of precision). If Vishal's account balance is not enough to complete the given transaction or if it's an invalid withdrawl amount, output the current balance.\n",
    "\n",
    "Note : Be careful with edge cases\n",
    "\n",
    "\n",
    "Example:  \n",
    " \n",
    "```\n",
    "Input  \n",
    "100.00 30 \n",
    "Output  \n",
    "68.50\n",
    "```\n",
    "\n",
    "```\n",
    "Input  \n",
    "2000.00 57  \n",
    "Output  \n",
    "2000.00\n",
    "```\n",
    "\n",
    "---\n",
    "Rubric : Partial/Full (Based on Test cases passed)\n",
    "<br>\n",
    "Grading Rubric: 5 points if all test cases pass. (-1, for each grading test case failed)"
   ]
  },
  {
   "cell_type": "code",
   "execution_count": 66,
   "metadata": {},
   "outputs": [
    {
     "data": {
      "text/plain": [
       "'2000.00'"
      ]
     },
     "execution_count": 66,
     "metadata": {},
     "output_type": "execute_result"
    }
   ],
   "source": [
    "def transaction(balance, cash):\n",
    "    # begin withdrawal process if $0 <= balance <= $1000\n",
    "    if (balance > 0 and balance <= 1000):\n",
    "        # continue withdrawal process if withdrawal is valid (multiple of 3 or 5)\n",
    "        if (cash % 3 == 0 or cash % 5 == 0):\n",
    "            # if withdrawal amount is below $100, withdraw cash and deduct $1.50 processing fee\n",
    "            if (cash < 100):\n",
    "                balance = balance - cash - 1.50\n",
    "            # if withdrawal amount is equal to or above $100, withdraw cash and deduct $2.50 processing fee\n",
    "            else:\n",
    "                balance = balance - cash - 2.50\n",
    "    # use format function to ensure there are 2 trailing decimal places (output is string)\n",
    "    return format(balance, \".2f\")\n",
    "    pass\n",
    "transaction(2000.00, 57)"
   ]
  },
  {
   "cell_type": "markdown",
   "metadata": {},
   "source": [
    "Bonus Question[2 points] \n",
    "---\n",
    "Since it's Lab-2, let's play a bonus game for 2 points using the number \"2\".\n",
    "You are given a number X and the only operation you can perform on the number is to multiply it by 2.\n",
    "Your task is to find out the minimum number of the said operations to convert the number X, such that X is divisible by 10.\n",
    "\n",
    "\n",
    "If the result can't be achieved at all, output -1. (i..e; after infinite operations of multiplying it by 2, still the number X is not divisible by 10)\n",
    "\n",
    "Input: Integer  \n",
    "Output: Integer  \n",
    "\n",
    "Example:  \n",
    "```\n",
    "Input  \n",
    "5 \n",
    "Output  \n",
    "1\n",
    "```\n",
    "\n",
    "```\n",
    "Input  \n",
    "23 \n",
    "Output  \n",
    "-1\n",
    "```\n",
    "\n",
    "---\n",
    "Grading Rubric: All or Nothing (+2 if All Cases pass, else 0)"
   ]
  },
  {
   "cell_type": "code",
   "execution_count": 42,
   "metadata": {},
   "outputs": [],
   "source": [
    "def bonus(X):\n",
    "    # If the last digit is 0, then it is already divisible by 10\n",
    "    if (X % 10 == 0):\n",
    "        return 0\n",
    "    # If the last digit is 5, then multiply by 2 once so it is divisble by 10\n",
    "    elif (X % 5 == 0):\n",
    "        return 1\n",
    "    else:\n",
    "        return -1\n",
    "    pass"
   ]
  },
  {
   "cell_type": "code",
   "execution_count": 45,
   "metadata": {},
   "outputs": [
    {
     "data": {
      "text/plain": [
       "-1"
      ]
     },
     "execution_count": 45,
     "metadata": {},
     "output_type": "execute_result"
    }
   ],
   "source": [
    "bonus(23)"
   ]
  }
 ],
 "metadata": {
  "kernelspec": {
   "display_name": "Python 3 (ipykernel)",
   "language": "python",
   "name": "python3"
  },
  "language_info": {
   "codemirror_mode": {
    "name": "ipython",
    "version": 3
   },
   "file_extension": ".py",
   "mimetype": "text/x-python",
   "name": "python",
   "nbconvert_exporter": "python",
   "pygments_lexer": "ipython3",
   "version": "3.8.8"
  }
 },
 "nbformat": 4,
 "nbformat_minor": 4
}
