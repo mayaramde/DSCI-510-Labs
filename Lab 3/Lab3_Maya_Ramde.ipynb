{
 "cells": [
  {
   "cell_type": "markdown",
   "metadata": {},
   "source": [
    "Lab 3 (Week-3)\n",
    "-----------------------------------------\n",
    "Hey Everyone, \n",
    "\n",
    "Guidelines for the Lab:\n",
    "- Download the lab materials from D2L. You're supposed to complete it by the deadline, Friday 11:59pm PDT.  \n",
    "\n",
    "- You have to complete the assignments individually. If you are having trouble completing the assignment do let the TA's/CP's or Graders know.\n",
    "\n",
    "- Please don't copy code (either partially/fully) from your classmates. Plagiarism of any form will result in a 0 and you will be reported to SJACS (https://sjacs.usc.edu/students/academic-integrity/).\n",
    "\n",
    "- You have to fill the code in this notebook and upload it for submission. While doing this, make sure all supporting files that you download from D2L are in the same directory as this notebook.  \n",
    "\n",
    "- Please don't submit code in text files and .py files. Also no mailing code to the TA's or Graders. There were exemptions provided to students in Lab-1 due to D2L issues, environment setup and course registrations but these exemptions will not be carried over to future labs.\n",
    "\n",
    "- File Naming Convention : Lab3_FIRSTNAME_LASTNAME.ipynb\n",
    "\n",
    "- A lot of students haven't followed the naming conventions in Lab-1 but were exempted (This may incur penalties in future labs btw)\n",
    "\n",
    "- Don't change existing methods (if any, unless otherwise mentioned in the instructions)\n",
    "\n",
    "- Please Don't ask for changes to the Grading Rubrics\n",
    "\n",
    "- You are encouraged to look up resources online like python docs and stackoverflow. But, you are encouraged to look up the topics and not the questions themselves  \n",
    "\n",
    "- Your last submission before the deadline will be counted towards your grade. You can submit any number of times before the deadline.\n",
    "\n",
    "- Scores are capped at 10 points including the Bonus problem. For Example : Even if you get a score of 15/10, your score is capped at 10.\n",
    "\n",
    "- Bonus score is counted only if the first 2 questions are attempted. Don't attempt the bonus question if you haven't attempted the first 2"
   ]
  },
  {
   "cell_type": "markdown",
   "metadata": {},
   "source": [
    "---\n",
    "Q1 : Find String Palindrome [5 Points] \n",
    "---\n",
    "Given a string s, return True if the string is a `Palindrome`, else return False. \n",
    "\n",
    "A string is called a Palindrome if the reverse of the string is the same as the original string.\n",
    "\n",
    "For example : 'radar' is a palindrome because radar read from the front or the from the end is the same. However, 'radix' is not a palindrome. \n",
    "\n",
    "***Key Pointers***\n",
    "\n",
    "The palindrome should be evaluated *without* using the reverse() method in Python.\n",
    "\n",
    "Food For Thought : Is an empty string considered a palindrome?\n",
    "\n",
    "```\n",
    "Example 1:\n",
    "\n",
    "Input: s = \"malayalam\"\n",
    "Output: True\n",
    "Explanation: malayalam, when reversed, also reads malayalam which is the same as s. Hence, this is called a Palindrome.\n",
    "\n",
    "```\n",
    "---\n",
    "```\n",
    "Example 2:\n",
    "\n",
    "Input: s = \"data\"\n",
    "Output: False\n",
    "Explanation: data, when reversed, reads as \"atad\" which is not the same as \"data\". Hence, \"data\" is not a palindrome.\n",
    "```\n",
    "---\n",
    "\n",
    "\n",
    "Rubric: All or Nothing.\n",
    "<br>\n",
    "Grading Rubric: 5 points if the output to all the grading test cases are correct. 0 otherwise (No Partial Marks). "
   ]
  },
  {
   "cell_type": "code",
   "execution_count": 47,
   "metadata": {},
   "outputs": [],
   "source": [
    "def is_palindrome(s):\n",
    "    length = len(s) \n",
    "    # iterate from beginning to end of string\n",
    "    # check if character at index i matches the character at index length-i-1\n",
    "    for i in range(0, int(length/2)):\n",
    "        # if the characters do not match, exit loop and return false\n",
    "        if s[i] != s[length - i - 1]:\n",
    "            return False\n",
    "    # if the loop iterates through entire string, then word is a palindrome\n",
    "    return True"
   ]
  },
  {
   "cell_type": "code",
   "execution_count": 3,
   "metadata": {},
   "outputs": [
    {
     "name": "stdout",
     "output_type": "stream",
     "text": [
      "Your output -> True Actual Output -> True\n",
      "Your output -> False Actual Output -> False\n"
     ]
    }
   ],
   "source": [
    "print('Your output ->', is_palindrome('malayalam'), 'Actual Output ->', True)\n",
    "print('Your output ->', is_palindrome('data'), 'Actual Output ->', False)"
   ]
  },
  {
   "cell_type": "markdown",
   "metadata": {},
   "source": [
    "\n",
    "---\n",
    "Q2.[5 points]\n",
    "---\n",
    "\n",
    "You are given a `word` string and a `character` string. While parsing from the start to the end in `word`, if you encounter `character` in the string, then you need to swap the string before the `character` in `word` with the string after the `character`. After doing this, you need to keep doing this \"parse and swap\" operation from the index+1 you swapped. You need to return the string after these operations.  \n",
    "\n",
    "For example, if word='abcd' and character='b', then output is 'abcd'. (abcd->cdba->abcd)\n",
    "\n",
    "---\n",
    "Example 1:  \n",
    "Input:  \n",
    "word='abc' character='b'  \n",
    "Output:  \n",
    "'cba'  \n",
    "Example 2:  \n",
    "Input:  \n",
    "word='philippines' character='i'  \n",
    "Output:  \n",
    "'philippines'\n",
    "\n",
    "---\n",
    "Rubric: All or Nothing.\n",
    "<br>\n",
    "Grading Rubric: 5 points if the output to all the grading test cases are correct. 0 otherwise (No Partial Marks). "
   ]
  },
  {
   "cell_type": "code",
   "execution_count": 46,
   "metadata": {},
   "outputs": [],
   "source": [
    "# Use this cell for your solution\n",
    "\n",
    "def reverse_all(word, character):\n",
    "    first_half = '' # character of word BEFORE index\n",
    "    second_half = '' # characters of word AFTER index\n",
    "    length = len(word)\n",
    "    \n",
    "    for i in range(0, length-1):\n",
    "        # at each iteration, parse word into first half and second half\n",
    "        first_half = word[:i]\n",
    "        second_half = word[i+1:]\n",
    "        # if we find given character, reverse the word\n",
    "        if word[i] == character:\n",
    "            word = first_half + character + second_half\n",
    "    # output word after loop ends\n",
    "    return word"
   ]
  },
  {
   "cell_type": "code",
   "execution_count": 43,
   "metadata": {},
   "outputs": [
    {
     "name": "stdout",
     "output_type": "stream",
     "text": [
      "Your output -> abc Actual output -> cba\n",
      "Your output -> philippines Actual output -> philippines\n"
     ]
    }
   ],
   "source": [
    "# Do not change this cell \n",
    "print('Your output ->', reverse_all('abc', 'b'), 'Actual output -> cba')\n",
    "print('Your output ->', reverse_all('philippines', 'i'), 'Actual output -> philippines')\n",
    "# lippinesiph\n",
    "# nesiphilipp\n",
    "# lippinesiph\n",
    "# philippines"
   ]
  },
  {
   "cell_type": "markdown",
   "metadata": {},
   "source": [
    "# Bonus Question - String balancing [5 Points] \n",
    "---\n",
    "---\n",
    "A string that has an equal quantity of 'X' and 'Y' characters is called a balanced string.\n",
    "\n",
    "Given a balanced string s, your task is to find out the *maximum* number of balanced strings that s can be split into and return the *maximum count* of balanced strings.\n",
    "\n",
    "The balanced strings **do not** have to be in a specific order. For instance : XXYY and YYXX both are considered balanced strings.\n",
    "\n",
    "***Key points***\n",
    "\n",
    "1. s is always a balanced string.\n",
    "\n",
    "2. s will **only** contain 'X' and 'Y'. \n",
    "\n",
    "```\n",
    "Example 1:\n",
    "\n",
    "Input: s = \"YXYYXXYXYX\"\n",
    "Output: 4\n",
    "Explanation: s can be split into \"YX\", \"YYXX\", \"YX\", \"YX\", each substring contains same number of 'X' and 'Y'.\n",
    "\n",
    "```\n",
    "---\n",
    "```\n",
    "Example 2:\n",
    "\n",
    "Input: s = \"YXXXXYYYXY\"\n",
    "Output: 3\n",
    "Explanation: s can be split into \"YX\", \"YYYXXX\", \"XY\", each substring contains same number of 'X' and 'Y'.\n",
    "```\n",
    "---\n",
    "```\n",
    "Example 3:\n",
    "\n",
    "Input: s = \"XXXXYYYY\"\n",
    "Output: 1\n",
    "Explanation: s can be split into \"XXXXYYYY\".\n",
    "```\n",
    "---\n",
    "\n",
    "\n",
    "Rubric: All or Nothing.\n",
    "<br>\n",
    "Grading Rubric: 5 points if the output to all the grading test cases are correct. 0 otherwise (No Partial Marks). "
   ]
  },
  {
   "cell_type": "code",
   "execution_count": 44,
   "metadata": {},
   "outputs": [],
   "source": [
    "def balancedString(s):\n",
    "    length = len(s)\n",
    "    count_x, count_y = 0, 0\n",
    "    total_count = 0 # number of substrings that s can be split into\n",
    "    \n",
    "    for i in range(0, length):\n",
    "        # increase count of X and/or Y until we can split into balanced substring\n",
    "        if s[i] == 'X':\n",
    "            count_x += 1\n",
    "        else:\n",
    "            count_y += 1\n",
    "        # if substring is balanced, increase overall count\n",
    "        if count_x == count_y:\n",
    "            total_count += 1\n",
    "    \n",
    "    return total_count"
   ]
  },
  {
   "cell_type": "code",
   "execution_count": 45,
   "metadata": {},
   "outputs": [
    {
     "name": "stdout",
     "output_type": "stream",
     "text": [
      "Your output -> 4 Actual output -> 4\n",
      "Your output -> 1 Actual output -> 1\n",
      "Your output -> 3 Actual output -> 3\n",
      "Your output -> 3 Actual output -> 3\n"
     ]
    }
   ],
   "source": [
    "print('Your output ->', balancedString(\"YXYYXXYXYX\"), 'Actual output -> 4')\n",
    "print('Your output ->', balancedString(\"XXXXYYYY\"), 'Actual output -> 1')\n",
    "print('Your output ->', balancedString(\"YXYXYYYYXXXX\"), 'Actual output -> 3')\n",
    "print('Your output ->', balancedString(\"XXXYYXYYYXXY\"), 'Actual output -> 3')"
   ]
  },
  {
   "cell_type": "code",
   "execution_count": null,
   "metadata": {},
   "outputs": [],
   "source": []
  }
 ],
 "metadata": {
  "kernelspec": {
   "display_name": "Python 3 (ipykernel)",
   "language": "python",
   "name": "python3"
  },
  "language_info": {
   "codemirror_mode": {
    "name": "ipython",
    "version": 3
   },
   "file_extension": ".py",
   "mimetype": "text/x-python",
   "name": "python",
   "nbconvert_exporter": "python",
   "pygments_lexer": "ipython3",
   "version": "3.8.8"
  }
 },
 "nbformat": 4,
 "nbformat_minor": 4
}
