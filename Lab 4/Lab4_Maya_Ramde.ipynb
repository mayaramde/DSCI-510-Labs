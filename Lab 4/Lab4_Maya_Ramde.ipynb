{
 "cells": [
  {
   "cell_type": "markdown",
   "metadata": {},
   "source": [
    "Lab 4 (Week-4)\n",
    "-----------------------------------------\n",
    "Hey Everyone, \n",
    "\n",
    "Guidelines for the Lab:\n",
    "- Download the lab materials from D2L. You're supposed to complete it by the deadline, Friday 11:59pm PDT.  \n",
    "\n",
    "- You have to complete the assignments individually. If you are having trouble completing the assignment do let the TA's/CP's or Graders know.\n",
    "\n",
    "- Please don't copy code (either partially/fully) from your classmates. Plagiarism of any form will result in a 0 and you will be reported to SJACS (https://sjacs.usc.edu/students/academic-integrity/).\n",
    "\n",
    "- You have to fill the code in this notebook and upload it for submission. While doing this, make sure all supporting files that you download from D2L are in the same directory as this notebook.  \n",
    "\n",
    "- Please don't submit code in text files and .py files. Also no mailing code to the TA's or Graders. There were exemptions provided to students in earlier labs due to D2L issues, environment setup and course registrations but these exemptions will not be carried over to future labs.\n",
    "\n",
    "- File Naming Convention : Lab4_FIRSTNAME_LASTNAME.ipynb\n",
    "\n",
    "- A lot of students haven't followed the naming conventions in previous labs and were exempted from penalties.(This may incur penalties in future labs)\n",
    "\n",
    "- Don't change existing methods (if any, unless otherwise mentioned in the instructions)\n",
    "\n",
    "- You are encouraged to look up resources online like python docs and stackoverflow. But, you are encouraged to look up the topics and not the questions themselves.  \n",
    "\n",
    "- Your last submission before the deadline will be counted towards your grade. You can submit any number of times before the deadline.\n",
    "\n",
    "- Scores are capped at 10 points including the Bonus problem. For Example : Even if you get a score of 12/10, your score is capped at 10.\n",
    "\n",
    "- Bonus score is counted only if all the required questions are attempted.\n",
    "\n",
    "-----------------------------Additional instructions for this Lab-----------------------------------------------------\n",
    "- Your output should be as mentioned in the question (Don't output/print extra items which are not asked in the question as it makes it difficult for the graders to grade). This has been excused in the first few Labs, but may attract penalties going forward. \n",
    "\n",
    "- You need to take input from file/console only if it is mentioned in the question. If not we need just the logic/implementation of your function. This has been excused in the first few Labs, but failure to adhere to this will incur penalties.\n",
    "\n",
    "- Please Don't ask for changes to the Grading Rubrics. Some questions have all/nothing rubric and missing one test case/ edge case may result in a 0 score. So you are encouraged to write your own test cases and evaluate your code as and where necessary. The TA's or Graders will not be providing you with the test cases."
   ]
  },
  {
   "cell_type": "markdown",
   "metadata": {},
   "source": [
    "Q1.[1 point]\n",
    "---\n",
    "---\n",
    "Instruction : You are given a txt file named 'weather_report.txt' on D2L, download it and keep it in the same location where you have this notebook. \n",
    "\n",
    "For this problem on files, You are required to count the number of lines in the given text file.\n",
    "\n",
    "Input: none  \n",
    "Output: int\n",
    "\n",
    "---\n",
    "Rubric: All or Nothing.\n",
    "<br>\n",
    "Grading Rubric: 1 point if the output is correct. 0 otherwise (No Partial Marks). "
   ]
  },
  {
   "cell_type": "code",
   "execution_count": 4,
   "metadata": {},
   "outputs": [],
   "source": [
    "report = open('weather_report.txt', 'r') # read in file\n",
    "def number_of_lines():\n",
    "    count = 0 # initialize count for lines\n",
    "    for line in report:\n",
    "        count += 1 # increase count for each line in report\n",
    "    return count"
   ]
  },
  {
   "cell_type": "code",
   "execution_count": 5,
   "metadata": {},
   "outputs": [
    {
     "name": "stdout",
     "output_type": "stream",
     "text": [
      "4999\n"
     ]
    }
   ],
   "source": [
    "# Do not change this cell \n",
    "print(number_of_lines())"
   ]
  },
  {
   "cell_type": "markdown",
   "metadata": {},
   "source": [
    "Q2.[4 points]\n",
    "---\n",
    "For the file weather_report.txt, you have 4 floating point numbers in each line as per the format below.\n",
    "\n",
    "(Min Temperature(in C), Max Temperature(in C), Humidity%, Rainfall(in)) for a particular day.  \n",
    "\n",
    "You are given a prediction algorithm which has the logic that if Max temperature - Min temperature is greater than 10 and if humidity is greater than 50%, it is a rainy day else it is sunny.\n",
    "\n",
    "If we predict a day to be rainy using the above algorithm and actual rainfall for that day in the dataset is greater than 0 then it's correct else it's a wrong prediction. Similarly, if we predict sunny and rainfall is 0, then it's correct else it's a wrong prediction.\n",
    "\n",
    "Your task is to return the total number of correct predictions corresponding to the dataset and the prediction algorithm.\n",
    "\n",
    "Note: Read data from the file.\n",
    "\n",
    "Input: none\n",
    "Output: int\n",
    "\n",
    "---\n",
    "Rubric : All/Nothing\n",
    "<br>\n",
    "Grading Rubric: 4 points if output is correct. (0, otherwise)"
   ]
  },
  {
   "cell_type": "code",
   "execution_count": 15,
   "metadata": {},
   "outputs": [],
   "source": [
    "def model_accuracy():\n",
    "    report = open('weather_report.txt', 'r')\n",
    "    correct_predict = 0 # count for no. of correct predictions\n",
    "    for line in report:\n",
    "        line = line.split() # split line into list of 4 elements\n",
    "        \n",
    "        # if it's a rainy day: max - min > 10 AND humidity > 50\n",
    "        if (float(line[0]) - float(line[1]) > 10) and (float(line[2]) > 50):\n",
    "            # prediction = RAINY\n",
    "            if float(line[3]) > 0:\n",
    "                correct_predict += 1 # prediction is correct\n",
    "        else:\n",
    "            # prediction = SUNNY\n",
    "            if float(line[3]) == 0:\n",
    "                correct_predict += 1 # prediction is correct\n",
    "        \n",
    "    return correct_predict"
   ]
  },
  {
   "cell_type": "code",
   "execution_count": 16,
   "metadata": {},
   "outputs": [
    {
     "name": "stdout",
     "output_type": "stream",
     "text": [
      "3340\n"
     ]
    }
   ],
   "source": [
    "print(model_accuracy())"
   ]
  },
  {
   "cell_type": "markdown",
   "metadata": {},
   "source": [
    "Q3 [2 points] \n",
    "---\n",
    "A String is determined to be fair if it satisfies any of the 3 conditions : \n",
    "\n",
    "Every letter in the string is a capital, like \"USC\" (or)\n",
    "Every letter is not uppercase , like \"assignment\" (or) \n",
    "Only the initial character in the word is capital, like \"This\".\n",
    "\n",
    "Note : The input string will only have alphabets.\n",
    "\n",
    "Input: String  \n",
    "Output: String  \n",
    "\n",
    "Example:  \n",
    "```\n",
    "Input  \n",
    "USC\n",
    "Output  \n",
    "Fair\n",
    "```\n",
    "\n",
    "```\n",
    "Input  \n",
    "USb \n",
    "Output  \n",
    "Not Fair\n",
    "```\n",
    "\n",
    "---\n",
    "Grading Rubric: All or Nothing (+2 if All Cases pass, else 0)"
   ]
  },
  {
   "cell_type": "code",
   "execution_count": 33,
   "metadata": {},
   "outputs": [],
   "source": [
    "def is_fair(s):\n",
    "    # Fair if S is ALL uppercase or ALL lowercase\n",
    "    if s.isupper() or s.islower():\n",
    "        return 'Fair'\n",
    "    # Fair if FIRST letter is uppercase and rest are lowercase\n",
    "    elif s[0].isupper() and s[1:].islower():\n",
    "        return 'Fair'\n",
    "    else:\n",
    "        return 'Not Fair'"
   ]
  },
  {
   "cell_type": "code",
   "execution_count": 32,
   "metadata": {},
   "outputs": [
    {
     "data": {
      "text/plain": [
       "'Not Fair'"
      ]
     },
     "execution_count": 32,
     "metadata": {},
     "output_type": "execute_result"
    }
   ],
   "source": [
    "is_fair('MaYA')"
   ]
  },
  {
   "cell_type": "markdown",
   "metadata": {},
   "source": [
    "Q4 [3 points] \n",
    "---\n",
    "\n",
    "Hopefully you all remember the work with Palindromes in the previous Lab (Lab-3). Given a list of words, your task is to return the first palindromic string in the list. If the list has no such matching string then return an empty string \"\".\n",
    "\n",
    "Note: You can reuse any of your own functions from the previous labs, if need be.\n",
    "\n",
    "Definition : A string is said to be a palindrome if it reads the same in both forward and backward directions.\n",
    "\n",
    "\n",
    "Input: List of Strings \n",
    "Output: String  \n",
    "\n",
    "Example:  \n",
    "```\n",
    "Input  \n",
    "words = [\"asd\",\"capital\",\"aba\",\"southern\",\"california\"]\n",
    "Output  \n",
    "'aba'\n",
    "```\n",
    "\n",
    "```\n",
    "Input  \n",
    "words = [\"asddd\",\"abcdefghi\"] \n",
    "Output  \n",
    "''\n",
    "```\n",
    "\n",
    "---\n",
    "Grading Rubric: All or Nothing (+3 if All Cases pass, else 0)"
   ]
  },
  {
   "cell_type": "code",
   "execution_count": 47,
   "metadata": {},
   "outputs": [],
   "source": [
    "# My is_palindrome function from Lab 3\n",
    "def is_palindrome(s):\n",
    "    length = len(s) \n",
    "    # iterate from beginning to end of string\n",
    "    # check if character at index i matches the character at index length-i-1\n",
    "    for i in range(0, int(length/2)):\n",
    "        # if the characters do not match, exit loop and return false\n",
    "        if s[i] != s[length - i - 1]:\n",
    "            return False\n",
    "    # if the loop iterates through entire string, then word is a palindrome\n",
    "    return True\n",
    "\n",
    "def firstPalindrome(words):\n",
    "    # iterate through entire list\n",
    "    for i in range(len(words)):\n",
    "        # return the first palindrome found in the list and end function\n",
    "        if is_palindrome(words[i]):\n",
    "            return words[i]\n",
    "    # if there aren't any palindrome in list:\n",
    "    return ''"
   ]
  },
  {
   "cell_type": "code",
   "execution_count": 48,
   "metadata": {},
   "outputs": [],
   "source": [
    "#Sample example for you to test. Don't need to submit this cell.\n",
    "words = [\"asd\",\"capital\",\"aba\",\"southern\",\"california\"]"
   ]
  },
  {
   "cell_type": "code",
   "execution_count": 49,
   "metadata": {},
   "outputs": [
    {
     "data": {
      "text/plain": [
       "'aba'"
      ]
     },
     "execution_count": 49,
     "metadata": {},
     "output_type": "execute_result"
    }
   ],
   "source": [
    "# Again another sample for you to call your function. Just for you to test\n",
    "firstPalindrome(words)"
   ]
  },
  {
   "cell_type": "markdown",
   "metadata": {},
   "source": [
    "Bonus [2 points] \n",
    "---\n",
    "\n",
    "Our favourite detective Sherlock has a been given a cipher to decode and needs your help. The key to the cipher is to solve a substring problem. He's given a String X, consisting of just 2 characters 'a' and 'b', and wants to find out the number of substrings of X which start and end with the character 'a'.\n",
    "\n",
    "Your task is to find out the number of such subtrings.\n",
    "\n",
    "Input: String  \n",
    "Output: int  \n",
    "\n",
    "Example:  \n",
    "```\n",
    "Input  \n",
    "ababab\n",
    "Output  \n",
    "6\n",
    "```\n",
    "\n",
    "```\n",
    "Input  \n",
    "aa \n",
    "Output  \n",
    "3\n",
    "```\n",
    "\n",
    "---\n",
    "Grading Rubric: All or Nothing (+2 if All Cases pass, else 0)"
   ]
  },
  {
   "cell_type": "code",
   "execution_count": 53,
   "metadata": {},
   "outputs": [],
   "source": [
    "# FUNCTION: get factorial of number (n)\n",
    "def factorial(n):\n",
    "    if n == 0:\n",
    "        return 1\n",
    "    # if n is not zero, return recursive formula to take factorial\n",
    "    return n*factorial(n-1) \n",
    "\n",
    "# FUNCTION: get combination (nCr) ==> nCr = n!/(r!*(n-r)!)\n",
    "def comb(n,r):\n",
    "    return int(factorial(n) / (factorial(r)*factorial(n-r)) )\n",
    "    \n",
    "def count_substring(X):\n",
    "    count = 0 # initialize count of substrings\n",
    "    count += X.count('a') # sum up all of the 'a' characters in string X\n",
    "    \n",
    "    if count < 2: # if count is less than 2, return count\n",
    "        return count\n",
    "    else: # add comb(count, 2) to count \n",
    "        combination = comb(count,2)\n",
    "        return count + combination"
   ]
  },
  {
   "cell_type": "code",
   "execution_count": 54,
   "metadata": {},
   "outputs": [
    {
     "data": {
      "text/plain": [
       "3"
      ]
     },
     "execution_count": 54,
     "metadata": {},
     "output_type": "execute_result"
    }
   ],
   "source": [
    "count_substring('aa')"
   ]
  },
  {
   "cell_type": "code",
   "execution_count": 55,
   "metadata": {},
   "outputs": [
    {
     "data": {
      "text/plain": [
       "6"
      ]
     },
     "execution_count": 55,
     "metadata": {},
     "output_type": "execute_result"
    }
   ],
   "source": [
    "count_substring('ababab')"
   ]
  }
 ],
 "metadata": {
  "kernelspec": {
   "display_name": "Python 3 (ipykernel)",
   "language": "python",
   "name": "python3"
  },
  "language_info": {
   "codemirror_mode": {
    "name": "ipython",
    "version": 3
   },
   "file_extension": ".py",
   "mimetype": "text/x-python",
   "name": "python",
   "nbconvert_exporter": "python",
   "pygments_lexer": "ipython3",
   "version": "3.8.8"
  }
 },
 "nbformat": 4,
 "nbformat_minor": 4
}
