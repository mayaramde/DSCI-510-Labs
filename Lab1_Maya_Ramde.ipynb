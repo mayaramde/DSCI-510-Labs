{
 "cells": [
  {
   "cell_type": "markdown",
   "id": "62911030",
   "metadata": {},
   "source": [
    "First Python Program"
   ]
  },
  {
   "cell_type": "code",
   "execution_count": 1,
   "id": "a166eeb3",
   "metadata": {},
   "outputs": [
    {
     "name": "stdout",
     "output_type": "stream",
     "text": [
      "Hello, world!\n"
     ]
    }
   ],
   "source": [
    "print(\"Hello, world!\")"
   ]
  },
  {
   "cell_type": "code",
   "execution_count": 2,
   "id": "636d2400",
   "metadata": {},
   "outputs": [
    {
     "name": "stdout",
     "output_type": "stream",
     "text": [
      "Hello name\n",
      "Hello Tommy Trojan\n"
     ]
    }
   ],
   "source": [
    "name = \"Tommy Trojan\" # assigns string to variable\n",
    "print(\"Hello\", \"name\") # prints Hello name\n",
    "print(\"Hello\", name) # Prints Hello Tommy Trojan because we are printing the string stored in name"
   ]
  },
  {
   "cell_type": "markdown",
   "id": "1b7e2911",
   "metadata": {},
   "source": [
    "Second Python Program"
   ]
  },
  {
   "cell_type": "code",
   "execution_count": 18,
   "id": "1690cd90",
   "metadata": {},
   "outputs": [
    {
     "name": "stdout",
     "output_type": "stream",
     "text": [
      "Feet: 6\n",
      "Inches: 2\n",
      "Your height in meters is: 1.88\n"
     ]
    }
   ],
   "source": [
    "# assign user input to variable after string is converted to integer value\n",
    "h_ft = int(input(\"Feet: \")) # ask user to input height in feet \n",
    "h_inch = int(input(\"Inches: \")) # ask user to input additional inches \n",
    "\n",
    "h_inch += h_ft * 12 # convert feet to inches\n",
    "h_meter = round(h_inch * 0.0254, 2) # convert inches to meters and round float to 2 decimal places (precision)\n",
    "\n",
    "print(\"Your height in meters is:\", h_meter)"
   ]
  },
  {
   "cell_type": "markdown",
   "id": "67a2d0f7",
   "metadata": {},
   "source": [
    "Third Python Program (10 pts)"
   ]
  },
  {
   "cell_type": "code",
   "execution_count": 24,
   "id": "e41f8ab5",
   "metadata": {},
   "outputs": [
    {
     "name": "stdout",
     "output_type": "stream",
     "text": [
      "Weight in pounds: 200\n",
      "The BMI is : 25.7\n"
     ]
    }
   ],
   "source": [
    "# Ask user to input weight and height\n",
    "weight = int(input(\"Weight in pounds: \"))\n",
    "\n",
    "weight = weight / 2.205 # convert pounds to kgs\n",
    "\n",
    "# use height value from in previous program to calculate BMI\n",
    "bmi = round(weight / h_meter**2, 1)\n",
    "print(\"The BMI is :\", bmi)"
   ]
  },
  {
   "cell_type": "code",
   "execution_count": 25,
   "id": "fd6ede02",
   "metadata": {},
   "outputs": [
    {
     "name": "stdout",
     "output_type": "stream",
     "text": [
      "Overweight (Pre-obese)\n"
     ]
    }
   ],
   "source": [
    "## Optional Challenge: Report user's category based on BMI value\n",
    "if bmi < 16.0:\n",
    "    print(\"Underweight (Severe thinness)\")\n",
    "elif bmi < 17.0:\n",
    "    print(\"Underweight (Moderate thinness)\")\n",
    "elif bmi < 18.5:\n",
    "    print(\"Underweight (Mild thinness)\")\n",
    "elif bmi < 25.0:\n",
    "    print(\"Normal range\")\n",
    "elif bmi < 30.0:\n",
    "    print(\"Overweight (Pre-obese)\")\n",
    "elif bmi < 35.0:\n",
    "    print(\"Obese (Class I)\")\n",
    "elif bmi < 40.0:\n",
    "    print(\"Obese (Class II)\")\n",
    "else:\n",
    "    print(\"Obese (Class III)\")"
   ]
  }
 ],
 "metadata": {
  "kernelspec": {
   "display_name": "Python 3 (ipykernel)",
   "language": "python",
   "name": "python3"
  },
  "language_info": {
   "codemirror_mode": {
    "name": "ipython",
    "version": 3
   },
   "file_extension": ".py",
   "mimetype": "text/x-python",
   "name": "python",
   "nbconvert_exporter": "python",
   "pygments_lexer": "ipython3",
   "version": "3.8.8"
  }
 },
 "nbformat": 4,
 "nbformat_minor": 5
}
